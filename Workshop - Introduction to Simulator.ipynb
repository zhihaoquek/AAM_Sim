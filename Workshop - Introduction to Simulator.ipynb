{
 "cells": [
  {
   "cell_type": "markdown",
   "id": "68b70535",
   "metadata": {},
   "source": [
    "# Hello! Welcome to the Simulator User Training Workshop :)\n",
    "\n",
    "This notebook is to be used as a rough guide/demo for key simulator functions. If there are any questions, feel free to contact the devs at: wei.dai@ntu.edu.sg and zhihao.quek@ntu.edu.sg"
   ]
  },
  {
   "cell_type": "markdown",
   "id": "11c76168",
   "metadata": {},
   "source": [
    "# Timing & Synchronization of Agents\n",
    "\n",
    "For Agent-based modelling (a key objective of this simulator), it is essential to ensure agents with different update rates are properly synchronized. This is done by using the **GlobalClock** and **Agent** classes from **Engine.GlobalClock.py**. A subclass for agents requiring non-fixed update intervals is also available, it is called **TimeTriggeredAgent**."
   ]
  },
  {
   "cell_type": "code",
   "execution_count": null,
   "id": "5f347ba2",
   "metadata": {},
   "outputs": [],
   "source": [
    "import numpy as np  # Very useful Python module for scientific computation & math\n",
    "import pandas as pd  # Very useful Python module for data analysis"
   ]
  },
  {
   "cell_type": "markdown",
   "id": "81748b7c",
   "metadata": {},
   "source": [
    "Now to give an idea of how Agent can be used to build generic Agents with given update rates, let's build an example child class using the Agent class. \n",
    "\n",
    "Each **update()** method essentially contains script elements that are supposed to be executed at a certain rate (based on the update rate of the agent). The following few cells show how to properly implement various types of **update()** methods using the **check_time()**, **check_time2()** and **update_next_update_time()** methods of the main Agent class. "
   ]
  },
  {
   "cell_type": "code",
   "execution_count": null,
   "id": "7249cdd9",
   "metadata": {},
   "outputs": [],
   "source": [
    "from Engine.GlobalClock import GlobalClock, Agent, TimeTriggeredAgent  \n",
    "\n",
    "class PrintAgent(Agent):\n",
    "    def __init__(self, update_rate, start_time, phase_delay):\n",
    "        super().__init__(update_rate, start_time, phase_delay)\n",
    "        \n",
    "    def update(self, time):\n",
    "        \"\"\"By default, use this syntax to define actions. When super().check_time(t) is called, the agent/class will\n",
    "        automatically update the internal next-update time. Great for when you have methods/actions that need to be called\n",
    "        periodically. E.g. controller update every xx Hz, GPS updates every xx Hz, etc.\n",
    "        \"\"\"\n",
    "        if super().check_time(time):\n",
    "            # USER SCRIPT FOR AGENT BEHAVIOUR GOES HERE\n",
    "            print('Updating now, time now is: %.4f, next update time is %.4f'%(self.time, self.next_update_time))\n",
    "            \n",
    "    def update2(self, time):\n",
    "        \"\"\"If there is need to use the main update function more than one time in a single simulation timestep, use this. \n",
    "        Note that the next update time is no longer automatically updated. \"\"\"\n",
    "        if super().check_time2(time):\n",
    "            # USER SCRIPT FOR AGENT BEHAVIOUR GOES HERE\n",
    "            print('Updating now, time now is: %.4f, next update time is %.4f'%(self.time, self.next_update_time))\n",
    "            \n",
    "    def update3(self, time):\n",
    "        \"\"\"As per ^^ users using check_time2 to run must specify next update time.\"\"\"\n",
    "        if super().check_time2(time):\n",
    "            # USER SCRIPT FOR AGENT BEHAVIOUR GOES HERE\n",
    "            super().update_next_update_time()  # <-- all Agent objects have .interval attribute (1/update_rate)\n",
    "            print('Updating now, time now is: %.4f, next update time is %.4f'%(self.time, self.next_update_time))\n",
    "            \n",
    "    "
   ]
  },
  {
   "cell_type": "markdown",
   "id": "131b6512",
   "metadata": {},
   "source": [
    "Let's see how the various **check_time()**, **check_time2()** and **update_next_update_time()** functions can be used to control Agent update behaviour."
   ]
  },
  {
   "cell_type": "markdown",
   "id": "1c264915",
   "metadata": {},
   "source": [
    "#### Using check_time()"
   ]
  },
  {
   "cell_type": "code",
   "execution_count": null,
   "id": "856b8cef",
   "metadata": {},
   "outputs": [],
   "source": [
    "GC_update_rate = 10  # 10 Hz\n",
    "GC_stop_time = 1\n",
    "\n",
    "GC = GlobalClock(GC_update_rate,  # <--- Update rate of the global clock. Note: all Agents should have LOWER update rates.\n",
    "                 GC_stop_time,  # <--- When the sim should stop running\n",
    "                 start=0 # Start time for GlobalClock. It is 0 by default.\n",
    "                )  \n",
    "\n",
    "Agent1_update_rate = 5\n",
    "Agent1_start_time = 0\n",
    "Agent1_phase_delay = np.random.uniform(0, 1/Agent1_update_rate)\n",
    "print('Agent1_phase_delay is: %.3f s'%Agent1_phase_delay)\n",
    "\n",
    "Agent1 = PrintAgent(Agent1_update_rate, \n",
    "                    Agent1_start_time, \n",
    "                    phase_delay=Agent1_phase_delay\n",
    "                   )\n",
    "\n",
    "GC.reset_time()\n",
    "\n",
    "while GC.time <= GC.stop:\n",
    "    print('GC time now is %.3f'%GC.time)\n",
    "    GC.update()\n",
    "    Agent1.update(GC.time)"
   ]
  },
  {
   "cell_type": "markdown",
   "id": "f7f5904f",
   "metadata": {},
   "source": [
    "Notice that the next update step occurs sometime **after** the expected next update time? This is due to the time resolution limit imposed by the GlobalClock update rate. Try adjusting **GC_update_rate** and see how it affects ^^. \n",
    "\n",
    "NOTE: **all Agents should have LOWER update rates than the global clock!**"
   ]
  },
  {
   "cell_type": "markdown",
   "id": "ca059262",
   "metadata": {},
   "source": [
    "#### Using check_time2() - Error if user tries updating in the main script"
   ]
  },
  {
   "cell_type": "code",
   "execution_count": null,
   "id": "3168dfb6",
   "metadata": {},
   "outputs": [],
   "source": [
    "GC_update_rate = 10  \n",
    "GC_stop_time = 1\n",
    "\n",
    "GC = GlobalClock(GC_update_rate,  \n",
    "                 GC_stop_time,  \n",
    "                 start=0 \n",
    "                )  \n",
    "\n",
    "Agent1_update_rate = 5\n",
    "Agent1_start_time = 0\n",
    "Agent1_phase_delay = np.random.uniform(0, 1/Agent1_update_rate)\n",
    "print('Agent1_phase_delay is: %.3f s'%Agent1_phase_delay)\n",
    "\n",
    "Agent1 = PrintAgent(Agent1_update_rate, \n",
    "                    Agent1_start_time, \n",
    "                    phase_delay=Agent1_phase_delay\n",
    "                   )\n",
    "\n",
    "GC.reset_time()\n",
    "\n",
    "while GC.time <= GC.stop:\n",
    "    print('GC time now is %.3f'%GC.time)\n",
    "    GC.update()\n",
    "    Agent1.update2(GC.time) \n",
    "    Agent1.update_next_update_time() # Update in the main clock script"
   ]
  },
  {
   "cell_type": "markdown",
   "id": "26d461a3",
   "metadata": {},
   "source": [
    "Notice now that the if the user defined an update method in the child class (in this case, **PrintAgent**) that used **check_time2()** *without* including a line to refresh the next update interval (i.e. **update_next_update_time()**), then the script body **will only run once!**"
   ]
  },
  {
   "cell_type": "markdown",
   "id": "08167693",
   "metadata": {},
   "source": [
    "#### Using check_time2() with update_next_update_time()"
   ]
  },
  {
   "cell_type": "code",
   "execution_count": null,
   "id": "19cd6da4",
   "metadata": {},
   "outputs": [],
   "source": [
    "GC_update_rate = 10  \n",
    "GC_stop_time = 1\n",
    "\n",
    "GC = GlobalClock(GC_update_rate,  \n",
    "                 GC_stop_time,  \n",
    "                 start=0 \n",
    "                )  \n",
    "\n",
    "Agent1_update_rate = 5\n",
    "Agent1_start_time = 0\n",
    "Agent1_phase_delay = np.random.uniform(0, 1/Agent1_update_rate)\n",
    "print('Agent1_phase_delay is: %.3f s'%Agent1_phase_delay)\n",
    "\n",
    "Agent1 = PrintAgent(Agent1_update_rate, \n",
    "                    Agent1_start_time, \n",
    "                    phase_delay=Agent1_phase_delay\n",
    "                   )\n",
    "\n",
    "GC.reset_time()\n",
    "\n",
    "while GC.time <= GC.stop:\n",
    "    GC.update()\n",
    "    Agent1.update3(GC.time) "
   ]
  },
  {
   "cell_type": "markdown",
   "id": "883b82f9",
   "metadata": {},
   "source": [
    "Now it works it properly! Yay :)\n",
    "\n",
    "Let's set up a clock instance to use for subsequent simulations."
   ]
  },
  {
   "cell_type": "code",
   "execution_count": null,
   "id": "48fb8073",
   "metadata": {},
   "outputs": [],
   "source": [
    "global_clock_update_rate = 240  # 240 Hz\n",
    "\n",
    "clock = GlobalClock(update_rate=global_clock_update_rate, stop=300, start=0)"
   ]
  },
  {
   "cell_type": "markdown",
   "id": "ed4c6592",
   "metadata": {},
   "source": [
    "# Wind\n",
    "\n",
    "First, let's start by modelling the wind, since this is (usually) a \"global\" agent that will interact with all A/C in a single simulation. "
   ]
  },
  {
   "cell_type": "code",
   "execution_count": null,
   "id": "0a3cd61f",
   "metadata": {},
   "outputs": [],
   "source": [
    "from Engine.Wind import WindField\n",
    "\n",
    "WindUpdateRate = 5  # Remember how agents have individual update rates? Here the 'Wind' agent has an update rate of 5 Hz\n",
    "WindStartTime = 0\n",
    "\n",
    "# Let's keep it simple for now and model a day with calm wind (std dev for all axis = 0).\n",
    "\n",
    "Wind = WindField(WindUpdateRate, WindStartTime, \n",
    "                 auto_x=0.9, auto_y=0.9, auto_z=0,\n",
    "                 std_x=0, std_y=0, std_z=0,\n",
    "                 mean_x=0, mean_y=0, mean_z=0)"
   ]
  },
  {
   "cell_type": "markdown",
   "id": "001fb9ff",
   "metadata": {},
   "source": [
    "# FlightPlan\n",
    "\n",
    "How to initialize and use the FlightPlan class to choose/design aircraft flight plan..."
   ]
  },
  {
   "cell_type": "code",
   "execution_count": null,
   "id": "7373134a",
   "metadata": {},
   "outputs": [],
   "source": [
    "from Engine.FlightPlan import *\n",
    "\n",
    "AC1_Wpt_Start_List = [np.array([0,0,0]), np.array([0,0,0])]\n",
    "AC1_Wpt_Start_Time = [0, 25]\n",
    "AC1_Wpt_End_List = [np.array([0,0,0]), np.array([100,100,100])]\n",
    "AC1_Wpt_End_Time = [25, 125]\n",
    "AC1_Mode_List = ['Hover', 'Direct_P2P']  # Currently, the 2 supported flight modes are 'Hover' and 'Direct_P2P'\n",
    "AC1_Duration_List = [25, 100]\n",
    "AC1_Leg_Spd = [0, 10]\n",
    "\n",
    "AC1_FlightPlan = FlightPlan(AC1_Leg_Spd,\n",
    "                            AC1_Mode_List,\n",
    "                            AC1_Wpt_Start_List, AC1_Wpt_Start_Time,\n",
    "                            AC1_Wpt_End_List, AC1_Wpt_End_Time, AC1_Duration_List)\n",
    "\n",
    "AC1_FlightPlan.plan  # Let's take a look at the flightplan!"
   ]
  },
  {
   "cell_type": "markdown",
   "id": "e7a42150",
   "metadata": {},
   "source": [
    "^^ make sure the Starting/Ending Wpt and EDTs/ETAs/Duration tally! "
   ]
  },
  {
   "cell_type": "markdown",
   "id": "834cbbf8",
   "metadata": {},
   "source": [
    "# Physics & Aircraft State\n",
    "\n",
    "Let's start initializing/setting up our aircraft model to use for the simulation."
   ]
  },
  {
   "cell_type": "code",
   "execution_count": null,
   "id": "f8a5b251",
   "metadata": {},
   "outputs": [],
   "source": [
    "from Engine.Aircraft import AircraftType\n",
    "from Engine.DragModel import DragModel\n",
    "from Engine.State import State\n",
    "\n",
    "\n",
    "# Define basic aircraft parameters\n",
    "\n",
    "def calc_diameter(mass, option='random'):\n",
    "    \"\"\"Data for this function obtained from log-log plot of popular DJI quadrotors.\n",
    "    For the various options: \n",
    "    random (default) --> randomizes calculated prop diameter based on a random multiplier\n",
    "    fixed extrapolation --> disables the randomization ^^\n",
    "    minimum --> uses a fixed multiplier of 0.8\n",
    "    maximum --> uses a fixed multiplier of 1.2\n",
    "    \"\"\"\n",
    "    if option == 'random':\n",
    "        diameter = round(np.random.uniform(0.8, 1.2) * np.exp((0.3878 * np.log(mass) + 2.1387)), 1)\n",
    "    if option == 'fixed extrapolation':\n",
    "        diameter = round(np.exp((0.3878 * np.log(mass) + 2.1387)), 1)\n",
    "    if option == 'minimum':\n",
    "        diameter = round(0.8 * np.exp((0.3878 * np.log(mass) + 2.1387)), 1)\n",
    "    if option == 'maximum':\n",
    "        diameter = round(1.2 * np.exp((0.3878 * np.log(mass) + 2.1387)), 1)\n",
    "    return diameter\n",
    "\n",
    "AC1_AircraftType = AircraftType(mass=1.2, prop_diameter=calc_diameter(1.2), max_cruise_spd=20)\n",
    "\n",
    "# Pass aircraft prop size info to dragmodel to calculate effective drag coefficient\n",
    "\n",
    "AC1_DragModel = DragModel(AC1_AircraftType)  \n",
    "\n",
    "\n",
    "# Define parameters to initialize AC1, e.g. physics update rate, initial position, velocity, rpy, etc. \n",
    "\n",
    "AC1_PhysicsUpdateRate = 240\n",
    "\n",
    "AC1_Start_Time = 0\n",
    "AC1_Ini_Pos = np.array([0,0,0])\n",
    "AC1_Ini_Vel = np.array([0,0,0])\n",
    "AC1_Ini_Pos_Err = np.array([0,0,0])\n",
    "AC1_Ini_Vel_Err = np.array([0,0,0])\n",
    "AC1_Ini_RPY = np.array([0,0,0])\n",
    "\n",
    "\n",
    "# Initialize AC1 State! \n",
    "\n",
    "AC1_State = State(AC1_PhysicsUpdateRate, AC1_Start_Time, \n",
    "                  AC1_Ini_Pos, AC1_Ini_Vel, \n",
    "                  AC1_Ini_Pos_Err, AC1_Ini_Vel_Err, \n",
    "                  Wind.get_windspd(AC1_Start_Time, AC1_Ini_Pos), AC1_AircraftType, \n",
    "                  rpy=AC1_Ini_RPY)"
   ]
  },
  {
   "cell_type": "markdown",
   "id": "504503bd",
   "metadata": {},
   "source": [
    "# Multirotor Controller\n",
    "\n",
    "Time to initialize the controller. The controller requires info from the flightplan, aircraft type, etc. to determine how the AC should maneuver, so it should be **initialized after those other agents**. "
   ]
  },
  {
   "cell_type": "code",
   "execution_count": null,
   "id": "59b0ed7a",
   "metadata": {},
   "outputs": [],
   "source": [
    "from Engine.MultiRotorController import MultiRotorController\n",
    "\n",
    "AC1_Controller_UpdateRate = 120\n",
    "\n",
    "AC1_Controller = MultiRotorController(AC1_Controller_UpdateRate, AC1_Start_Time, AC1_FlightPlan, AC1_AircraftType,\n",
    "                                      wpt_tol_hor=0, wpt_tol_vert=0, wpt_tol=10  # Determines tol dist for to switch legs\n",
    "                                     )"
   ]
  },
  {
   "cell_type": "markdown",
   "id": "78912581",
   "metadata": {},
   "source": [
    "# Sensor Errors\n",
    "\n",
    "To make the simulation a bit more realistic, let's simulate GPS position errors using RNG (similar to the wind simulation). For horizontal std dev values, please note that these values are specified separately for x/y axis. If you wish to set a radial std dev value, please scale the horizontal std devs by the necessary factor. The formula is included below! "
   ]
  },
  {
   "cell_type": "code",
   "execution_count": null,
   "id": "0c1bc57a",
   "metadata": {},
   "outputs": [],
   "source": [
    "runs = 100000\n",
    "\n",
    "x_auto = 0.994\n",
    "y_auto = 0.994\n",
    "\n",
    "\n",
    "GPS_Pos_Error_Hor_Std = 3.5 # (radial)\n",
    "GPS_Pos_Error_Hor_Std1 = (GPS_Pos_Error_Hor_Std)/np.sqrt(0.5*(4-np.pi)) # Check formula! \n",
    "\n",
    "x1_err = np.random.uniform(0, GPS_Pos_Error_Hor_Std)\n",
    "y1_err = np.random.uniform(0, GPS_Pos_Error_Hor_Std)\n",
    "\n",
    "\n",
    "x1_err_l = []\n",
    "y1_err_l = []\n",
    "r1_err_l = []\n",
    "\n",
    "for i in range(runs):\n",
    "    x1_err = x_auto * x1_err + np.random.normal(0, GPS_Pos_Error_Hor_Std1 * np.sqrt(1 - x_auto**2))\n",
    "    x1_err_l.append(x1_err)\n",
    "    y1_err = y_auto * y1_err + np.random.normal(0, GPS_Pos_Error_Hor_Std1 * np.sqrt(1 - y_auto**2))\n",
    "    y1_err_l.append(y1_err)\n",
    "    r1_err_l.append(np.sqrt(x1_err**2 + y1_err**2))\n",
    "    \n",
    "    \n",
    "print('STD_Formula_1, r std: %.3f, set value: %.1f'%(np.array(r1_err_l).std(), GPS_Pos_Error_Hor_Std))\n",
    "print('STD_x_val_1: %.3f, set value: %.3f'%(np.array(x1_err_l).std(), GPS_Pos_Error_Hor_Std1))"
   ]
  },
  {
   "cell_type": "markdown",
   "id": "3ae94426",
   "metadata": {},
   "source": [
    "^^ you can check if the Cartesian-to-Polar formula is correct (for horizontal NSE std dev), either analytically or by running the short script above. "
   ]
  },
  {
   "cell_type": "code",
   "execution_count": null,
   "id": "61427f86",
   "metadata": {},
   "outputs": [],
   "source": [
    "from Engine.Sensors import NavUpdate, GPSPosNavUpdate\n",
    "\n",
    "AC1_PosUpdateRate = 10\n",
    "AC1_VelUpdateRate = 10\n",
    "AC1_AccelUpdateRate = 100\n",
    "AC1_AirSpdSensorUpdateRate = 100\n",
    "\n",
    "GPS_horizontal_std = 3.5  # If you want, set this to 0 to turn lateral NSE off\n",
    "GPS_horizontal_std = (GPS_horizontal_std)/np.sqrt(0.5*(4-np.pi))\n",
    "GPS_vert_std = 3.5 # If you want, set this to 0 to turn vertical NSE off\n",
    "\n",
    "AC1_Pos_Nav_Agent = GPSPosNavUpdate(AC1_PosUpdateRate, AC1_Start_Time, \n",
    "                                    0.994, 0.994, 0.994,  # <-- Autocor parameters for x, y, z axis\n",
    "                                    GPS_horizontal_std, GPS_horizontal_std, GPS_vert_std,\n",
    "                                    x_mean=0, y_mean=0, z_mean=0)\n",
    "                                    # phase_delay=10 <-- manually set GPS phase delay during start-up (will rand if None)\n",
    "AC1_Vel_Nav_Agent = NavUpdate(AC1_VelUpdateRate, AC1_Start_Time)\n",
    "AC1_Accel_Nav_Agent = NavUpdate(AC1_AccelUpdateRate, AC1_Start_Time)\n",
    "AC1_AirSpeedSensor = NavUpdate(AC1_AirSpdSensorUpdateRate, AC1_Start_Time)"
   ]
  },
  {
   "cell_type": "markdown",
   "id": "7bc69a61",
   "metadata": {},
   "source": [
    "# Tracking\n",
    "\n",
    "This section is for modelling tracking systems. Depending on user's research area(s) this part can be skipped. "
   ]
  },
  {
   "cell_type": "code",
   "execution_count": null,
   "id": "d040e966",
   "metadata": {},
   "outputs": [],
   "source": [
    "from Engine.TrackingSystem import TrackingUnit, GroundStation\n",
    "\n",
    "\n",
    "# Initialize Tracking System\n",
    "\n",
    "AC1_TrackingUnit_UpdateRate = 1  # Update rate in Hz\n",
    "AC1_Latency = 2.5  # Latency in seconds\n",
    "AC1_Tracking_Availability = 1  # Between [0, 1], 0 --> 0 means not able to send info to GroundStation at all\n",
    "\n",
    "AC1_TrackingUnit = TrackingUnit('AC1',  # <-- Aircraft Identity\n",
    "                                AC1_TrackingUnit_UpdateRate, \n",
    "                                AC1_Start_Time, \n",
    "                                AC1_Latency, \n",
    "                                availability=AC1_Tracking_Availability,\n",
    "                                latency_distribution=None, phase_delay=None)\n",
    "\n",
    "Ground_UpdateRate = 20  # Update rate in Hz\n",
    "Trackinator = GroundStation(Ground_UpdateRate, 0, phase_delay=0)\n",
    "\n",
    "\n",
    "# Add AC1 to the tracking system so that the GroundStation is aware of which aircraft is which! \n",
    "# Useful if there are more than 1 aircraft in the simulation\n",
    "\n",
    "Trackinator.add_airborne_tracker('AC1',  # <-- Aircraft Identity\n",
    "                                 AC1_TrackingUnit)"
   ]
  },
  {
   "cell_type": "markdown",
   "id": "8b5eb43c",
   "metadata": {},
   "source": [
    "# We're finally ready to simulate things! \n",
    "\n",
    "Let's give the simulator a run and visualize some flight parameters!"
   ]
  },
  {
   "cell_type": "code",
   "execution_count": null,
   "id": "61ee7a6e",
   "metadata": {},
   "outputs": [],
   "source": [
    "import time  # For simulator performance monitoring\n",
    "\n",
    "# Time to run the simulation...\n",
    "\n",
    "start = time.time()\n",
    "\n",
    "while clock.time <= clock.stop:\n",
    "    clock.update()\n",
    "    if AC1_State.simstate == 0:  # If an aircraft reaches its final wpt, it will trigger the end of the sim. \n",
    "        # Change ^^ line if you have more than 1 aircraft!\n",
    "        continue\n",
    "    \n",
    "    # Update aircraft state (i.e. kinematics)\n",
    "    AC1_State.update(clock.time, AC1_DragModel, \n",
    "                     AC1_Controller, \n",
    "                     AC1_Pos_Nav_Agent, AC1_Vel_Nav_Agent, AC1_Accel_Nav_Agent,\n",
    "                     AC1_AirSpeedSensor, \n",
    "                     Wind) \n",
    "    \n",
    "    # Update various tracking units and the ground station\n",
    "    AC1_TrackingUnit.update_and_queue(clock.time, AC1_State, \n",
    "                                      pos_error_agent=None, vel_error_agent=None)\n",
    "    Trackinator.track_and_update_trajectories(clock.time)\n",
    "    \n",
    "end = time.time()\n",
    "compute_time = end-start\n",
    "simulated_time = AC1_State.time\n",
    "speedup = simulated_time/compute_time\n",
    "\n",
    "print('Simulation took: %.3f sec, simulated flight time: %.3f sec, total speedup: %.3f times'\n",
    "      %(compute_time, simulated_time, speedup))"
   ]
  },
  {
   "cell_type": "markdown",
   "id": "1f203e8a",
   "metadata": {},
   "source": [
    "# Visualization of Trajectories and Critical Flight Parameters\n",
    "\n",
    "### Before we visualize things...\n",
    "\n",
    "...after each simulation run, trajectory information can be retrieved from both the **State** (in this instance **AC1_State**) and **GroundStation** (in this instance **Trackinator**) objects.\n",
    "\n",
    "State objects return a pandas dataframe containing multiple flight parameters.\n",
    "\n",
    "However, GroundStation objects only store transmitted time, received time, position and velocity of each aircraft. As it has fewer parameters, a numpy array is used to store aircraft information instead. Two helper functions are included below to help process the trajectory data. "
   ]
  },
  {
   "cell_type": "code",
   "execution_count": null,
   "id": "e0ec2cea",
   "metadata": {},
   "outputs": [],
   "source": [
    "def extract_from_df(df, key, idx):\n",
    "    \"\"\"Extracts single column from dataframe cells with 3D point values. \"\"\"\n",
    "    df_len = len(df)\n",
    "    return np.concatenate(df[key].to_numpy()).reshape(df_len, 3)[:,idx]\n",
    "\n",
    "def special_concat(trajectory):\n",
    "    \"\"\"For use with trajectory info extracted from GroundStation object. \"\"\"\n",
    "    return np.concatenate(trajectory).reshape(len(trajectory), 8)  # 8 is the length of each mini array"
   ]
  },
  {
   "cell_type": "markdown",
   "id": "cb9b1140",
   "metadata": {},
   "source": [
    "Now let's get the get the trajectory information from the State and GroundStation objects (AC1_State and Trackinator). \n",
    "\n",
    "Let's focus on the **ground truth** trajectory first (i.e. trajectory data from State)."
   ]
  },
  {
   "cell_type": "code",
   "execution_count": null,
   "id": "1abd6ec4",
   "metadata": {
    "scrolled": true
   },
   "outputs": [],
   "source": [
    "# Getting AC1_State trajectory info (i.e. ground truth). Recall it is a pandas dataframe.\n",
    "\n",
    "AC1_trajectory = AC1_State.get_trajectory();\n",
    "AC1_trajectory.head()"
   ]
  },
  {
   "cell_type": "code",
   "execution_count": null,
   "id": "d4567174",
   "metadata": {
    "scrolled": true
   },
   "outputs": [],
   "source": [
    "import matplotlib.pyplot as plt\n",
    "\n",
    "# Let's view ground truth position/velocity/accel\n",
    "\n",
    "fig, axs = plt.subplots(ncols=3, figsize=(16.5,5.5))\n",
    "\n",
    "axs[0].plot(AC1_trajectory['time'], extract_from_df(AC1_trajectory, 'gt_pos', 0), label='x pos trace')\n",
    "axs[0].plot(AC1_trajectory['time'], extract_from_df(AC1_trajectory, 'gt_pos', 1), label='y pos trace', c='g')\n",
    "axs[0].plot(AC1_trajectory['time'], extract_from_df(AC1_trajectory, 'gt_pos', 2), label='z pos trace', c='orange')\n",
    "axs[0].set_title('Ground truth position trace')\n",
    "\n",
    "axs[1].plot(AC1_trajectory['time'], extract_from_df(AC1_trajectory, 'gt_vel', 0), label='x vel trace')\n",
    "axs[1].plot(AC1_trajectory['time'], extract_from_df(AC1_trajectory, 'gt_vel', 1), label='y vel trace')\n",
    "axs[1].plot(AC1_trajectory['time'], extract_from_df(AC1_trajectory, 'gt_vel', 2), label='z vel trace')\n",
    "axs[1].legend()\n",
    "axs[1].set_title('Ground truth velocity trace')\n",
    "\n",
    "axs[2].plot(AC1_trajectory['time'], extract_from_df(AC1_trajectory, 'accel', 0), label='x accel trace')\n",
    "axs[2].plot(AC1_trajectory['time'], extract_from_df(AC1_trajectory, 'accel', 1), label='y accel trace')\n",
    "axs[2].plot(AC1_trajectory['time'], extract_from_df(AC1_trajectory, 'accel', 2), label='z accel trace')\n",
    "axs[2].legend()\n",
    "axs[2].set_title('Ground truth acceleration trace')\n",
    "\n",
    "plt.show()"
   ]
  },
  {
   "cell_type": "markdown",
   "id": "a21f75d1",
   "metadata": {},
   "source": [
    "Does the ground truth match the chosen flight plan? "
   ]
  },
  {
   "cell_type": "code",
   "execution_count": null,
   "id": "159c7a61",
   "metadata": {},
   "outputs": [],
   "source": [
    "# Let's view ground truth RPY and Thrust\n",
    "\n",
    "fig,axs = plt.subplots(ncols=3, figsize=(16.5,5.5))\n",
    "\n",
    "axs[0].plot(AC1_trajectory['time'], extract_from_df(AC1_trajectory, 'rpy', 0), label='R trace')\n",
    "axs[0].plot(AC1_trajectory['time'], extract_from_df(AC1_trajectory, 'rpy', 1), label='P trace')\n",
    "axs[0].plot(AC1_trajectory['time'], extract_from_df(AC1_trajectory, 'rpy', 2), label='Y trace')\n",
    "max_rpy_array = np.empty(len(AC1_trajectory['time']))\n",
    "max_rpy_array[:] = AC1_AircraftType.max_roll_pitch\n",
    "axs[0].plot(AC1_trajectory['time'], max_rpy_array, label='Max RP')\n",
    "axs[0].plot(AC1_trajectory['time'], -max_rpy_array, label='Min RP')\n",
    "axs[0].legend()\n",
    "axs[0].set_title('RPY trace')\n",
    "\n",
    "\n",
    "axs[1].plot(AC1_trajectory['time'], extract_from_df(AC1_trajectory, 'thrust', 0), label='x thrust trace')\n",
    "axs[1].plot(AC1_trajectory['time'], extract_from_df(AC1_trajectory, 'thrust', 1), label='y thrust trace')\n",
    "axs[1].plot(AC1_trajectory['time'], extract_from_df(AC1_trajectory, 'thrust', 2), label='z thrust trace')\n",
    "axs[1].legend()\n",
    "axs[1].set_title('Thrust component trace (in earth frame)')\n",
    "\n",
    "axs[2].plot(AC1_trajectory['time'], extract_from_df(AC1_trajectory, 'air_vel', 0), label='x air vel trace')\n",
    "axs[2].plot(AC1_trajectory['time'], extract_from_df(AC1_trajectory, 'air_vel', 1), label='y air vel trace')\n",
    "axs[2].plot(AC1_trajectory['time'], extract_from_df(AC1_trajectory, 'air_vel', 2), label='z air vel trace')\n",
    "axs[2].legend()\n",
    "axs[2].set_title('Air speed data')\n",
    "\n",
    "\n",
    "plt.show()"
   ]
  },
  {
   "cell_type": "code",
   "execution_count": null,
   "id": "d1e1c736",
   "metadata": {},
   "outputs": [],
   "source": [
    "# Let's view WIND SPEED\n",
    "\n",
    "fig,axs = plt.subplots(ncols=1, figsize=(5.5,5.5))\n",
    "\n",
    "axs.plot(AC1_trajectory['time'], extract_from_df(AC1_trajectory, 'wind_spd', 0), label='x windspeed')\n",
    "axs.plot(AC1_trajectory['time'], extract_from_df(AC1_trajectory, 'wind_spd', 1), label='y windspeed')\n",
    "axs.plot(AC1_trajectory['time'], extract_from_df(AC1_trajectory, 'wind_spd', 2), label='z windspeed')\n",
    "axs.legend()\n",
    "axs.set_title('Windspeed vs Time')\n",
    "#axs.set_xlim(0,20)\n",
    "\n",
    "plt.show()"
   ]
  },
  {
   "cell_type": "code",
   "execution_count": null,
   "id": "a3e95aa4",
   "metadata": {},
   "outputs": [],
   "source": [
    "# Let's view NAVIGATIONAL ERRORS for position/velocity/accel\n",
    "\n",
    "fig,axs = plt.subplots(ncols=3, figsize=(16.5,5.5))\n",
    "\n",
    "axs[0].plot(AC1_trajectory['time'], extract_from_df(AC1_trajectory, 'gt_pos_err', 0), label='x pos error')\n",
    "axs[0].plot(AC1_trajectory['time'], extract_from_df(AC1_trajectory, 'gt_pos_err', 1), label='y pos error')\n",
    "axs[0].plot(AC1_trajectory['time'], extract_from_df(AC1_trajectory, 'gt_pos_err', 2), label='z pos error')\n",
    "axs[0].legend()\n",
    "axs[0].set_title('NAVIGATION - POSITION ERROR TRACE')\n",
    "# axs[0].set_xlim(0,1)\n",
    "\n",
    "\n",
    "axs[1].plot(AC1_trajectory['time'], extract_from_df(AC1_trajectory, 'gt_vel_err', 0), label='x vel error')\n",
    "axs[1].plot(AC1_trajectory['time'], extract_from_df(AC1_trajectory, 'gt_vel_err', 1), label='y vel error')\n",
    "axs[1].plot(AC1_trajectory['time'], extract_from_df(AC1_trajectory, 'gt_vel_err', 2), label='z vel error')\n",
    "axs[1].legend()\n",
    "axs[1].set_title('NAVIGATION - VELOCITY ERROR TRACE')\n",
    "\n",
    "axs[2].plot(AC1_trajectory['time'], extract_from_df(AC1_trajectory, 'accel_err', 0), label='x accel error')\n",
    "axs[2].plot(AC1_trajectory['time'], extract_from_df(AC1_trajectory, 'accel_err', 1), label='y accel error')\n",
    "axs[2].plot(AC1_trajectory['time'], extract_from_df(AC1_trajectory, 'accel_err', 2), label='z accel error')\n",
    "axs[2].legend()\n",
    "axs[2].set_title('ACCELERATION ERROR TRACE')\n",
    "\n",
    "print('NSE hor radial error std: %.3f'%(AC1_trajectory['gt_hor_err'].std()) + \n",
    "      '\\n x std: %.3f, y std: %.3f, z std: %.3f'%((extract_from_df(AC1_trajectory, 'gt_pos_err', 0).std(), \n",
    "                                                   extract_from_df(AC1_trajectory, 'gt_pos_err', 1).std(), \n",
    "                                                   extract_from_df(AC1_trajectory, 'gt_pos_err', 2).std())))\n",
    "\n",
    "plt.show()"
   ]
  },
  {
   "cell_type": "markdown",
   "id": "79a5596f",
   "metadata": {},
   "source": [
    "Now let's look at data from the **tracking system**. We can compare it to the ground truth trajectory."
   ]
  },
  {
   "cell_type": "code",
   "execution_count": null,
   "id": "5abb16ab",
   "metadata": {},
   "outputs": [],
   "source": [
    "# Let's get the data from the tracking system now. Recall that this is a numpy array, and includes sensor error(s).\n",
    "\n",
    "AC1_Trk_Trajectory = special_concat(Trackinator.trajectories['AC1'].trajectory)\n",
    "AC1_Trk_trans_time = AC1_Trk_Trajectory[:,0]\n",
    "AC1_Trk_rec_time = AC1_Trk_Trajectory[:,1]\n",
    "AC1_Trk_est_pos = AC1_Trk_Trajectory[:,2:5]\n",
    "AC1_Trk_est_vel = AC1_Trk_Trajectory[:,5:8]"
   ]
  },
  {
   "cell_type": "code",
   "execution_count": null,
   "id": "bf70b81c",
   "metadata": {},
   "outputs": [],
   "source": [
    "# Compare reported position and velocities (trk system) vs ground truth\n",
    "\n",
    "fig, axs = plt.subplots(ncols=3, figsize=(16.5,5.5))\n",
    "\n",
    "axs[0].plot(AC1_trajectory['time'], extract_from_df(AC1_trajectory, 'gt_pos', 0), label='x pos trace', c='blue')\n",
    "axs[0].plot(AC1_trajectory['time'], extract_from_df(AC1_trajectory, 'gt_pos', 1), label='y pos trace', c='g')\n",
    "axs[0].scatter(AC1_Trk_trans_time, AC1_Trk_est_pos[:,0], c='blue', label='Trk Sys Pos - x', alpha=0.5)\n",
    "axs[0].scatter(AC1_Trk_trans_time, AC1_Trk_est_pos[:,1], c='g', label='Trk Sys Pos - y', alpha=0.5)\n",
    "axs[0].plot(AC1_trajectory['time'], extract_from_df(AC1_trajectory, 'gt_pos', 2), label='z pos trace', c='orange')\n",
    "axs[0].scatter(AC1_Trk_trans_time, AC1_Trk_est_pos[:,2], c='orange', label='Trk Sys Pos - z', alpha=0.5)\n",
    "\n",
    "axs[1].plot(AC1_trajectory['time'], extract_from_df(AC1_trajectory, 'gt_vel', 0), label='x vel trace')\n",
    "axs[1].plot(AC1_trajectory['time'], extract_from_df(AC1_trajectory, 'gt_vel', 1), label='y vel trace')\n",
    "axs[1].plot(AC1_trajectory['time'], extract_from_df(AC1_trajectory, 'gt_vel', 2), label='z vel trace')\n",
    "axs[1].scatter(AC1_Trk_trans_time, AC1_Trk_est_vel[:,0], c='black', label='Trk Sys Vel - x')\n",
    "axs[1].scatter(AC1_Trk_trans_time, AC1_Trk_est_vel[:,1], c='purple', label='Trk Sys Vel - y')\n",
    "axs[1].scatter(AC1_Trk_trans_time, AC1_Trk_est_vel[:,2], c='cyan', label='Trk Sys Vel - z')\n",
    "\n",
    "axs[2].plot(AC1_trajectory['time'], extract_from_df(AC1_trajectory, 'gt_pos', 0), label='x pos trace')\n",
    "axs[2].plot(AC1_Trk_trans_time, AC1_Trk_est_pos[:,0], c='black', label='Trk Sys Pos - x (Transmitted Time)', alpha=0.5)\n",
    "axs[2].plot(AC1_Trk_rec_time, AC1_Trk_est_pos[:,0], c='r', label='Trk Sys Pos - x (Received Time)', alpha=0.5)\n",
    "\n",
    "axs[0].legend()\n",
    "axs[0].set_title('Trk Sys and GT Position')\n",
    "axs[1].legend()\n",
    "axs[1].set_title('Trk Sys and GT Velocity')\n",
    "axs[2].legend()\n",
    "axs[2].set_title('Trk Sys Pos (Trans/Rec) and GT Pos')\n",
    "\n",
    "plt.show()"
   ]
  },
  {
   "cell_type": "markdown",
   "id": "3442d0fe",
   "metadata": {},
   "source": [
    "## We can use Jupyter's powerful visualization capabilities to see the 3D trajectory :) \n",
    "\n",
    "After running the following cell, you can click and drag on the 3D image in the output cell to shift the viewpoint of the trajectory! "
   ]
  },
  {
   "cell_type": "code",
   "execution_count": null,
   "id": "5abdedb0",
   "metadata": {},
   "outputs": [],
   "source": [
    "%matplotlib notebook  \n",
    "# ^^ magic command in Jupyter for manipulating interactive matplotlib plots\n",
    "\n",
    "fig = plt.figure(figsize=(6,6))\n",
    "ax = fig.add_subplot(projection='3d')\n",
    "\n",
    "ax.scatter(extract_from_df(AC1_trajectory, 'gt_pos', 0), \n",
    "           extract_from_df(AC1_trajectory, 'gt_pos', 1), \n",
    "           extract_from_df(AC1_trajectory, 'gt_pos', 2), c='b')\n",
    "\n",
    "xx, yy, zz = AC1_FlightPlan.plan.iloc[0]['Starting Wpt']\n",
    "ax.scatter(xx, yy, zz, c='g')\n",
    "print(AC1_FlightPlan.plan.iloc[0]['Starting Wpt'])\n",
    "\n",
    "for wpt in AC1_FlightPlan.plan['Ending Wpt']:\n",
    "    xx, yy, zz = wpt\n",
    "    ax.scatter(xx, yy, zz, c='r')\n",
    "    print(wpt)\n",
    "    \n",
    "# ax.set_xlim(-10, 510)\n",
    "# ax.set_ylim(-100, 100)\n",
    "# ax.set_zlim(-50,50)\n",
    "\n",
    "plt.show()"
   ]
  },
  {
   "cell_type": "markdown",
   "id": "76b026ad",
   "metadata": {},
   "source": [
    "# Thanks for following through the notebook!\n",
    "\n",
    "Excercise time: try to recreate the squarish trajectory shown in the intro slides. \n",
    "You may use the following waypoints: (0,0,0), (0, 400, 400), (400, 400, 400), (400,0,100) and (0, 0, 100)\n",
    "\n",
    "Feel free to play around with different settings. \n",
    "\n",
    "Happy \"flying\"!"
   ]
  }
 ],
 "metadata": {
  "kernelspec": {
   "display_name": "Python 3",
   "language": "python",
   "name": "python3"
  },
  "language_info": {
   "codemirror_mode": {
    "name": "ipython",
    "version": 3
   },
   "file_extension": ".py",
   "mimetype": "text/x-python",
   "name": "python",
   "nbconvert_exporter": "python",
   "pygments_lexer": "ipython3",
   "version": "3.8.8"
  }
 },
 "nbformat": 4,
 "nbformat_minor": 5
}

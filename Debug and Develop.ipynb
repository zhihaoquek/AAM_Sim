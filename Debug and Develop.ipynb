{
 "cells": [
  {
   "cell_type": "code",
   "execution_count": 1,
   "id": "93dfb044",
   "metadata": {},
   "outputs": [],
   "source": [
    "import numpy as np\n",
    "import platform\n",
    "\n",
    "from Engine.global_clock import GlobalClock, Agent\n",
    "\n",
    "def my_print(*args):\n",
    "    if platform.system() == 'Windows':\n",
    "        print(*args)"
   ]
  },
  {
   "cell_type": "code",
   "execution_count": 11,
   "id": "6a4e6eb0",
   "metadata": {},
   "outputs": [],
   "source": [
    "class TimedAgent(Agent):\n",
    "    def __init__(self, update_rate, start_time):\n",
    "        super().__init__(update_rate, start_time)\n",
    "    \n",
    "    def test_print(self, time):\n",
    "        if super().check_time(time):\n",
    "            my_print('A-ha! It is now {time}'.format(time = time))"
   ]
  },
  {
   "cell_type": "code",
   "execution_count": 14,
   "id": "8c155fa8",
   "metadata": {},
   "outputs": [
    {
     "name": "stdout",
     "output_type": "stream",
     "text": [
      "A-ha! It is now 0\n",
      "A-ha! It is now 0.1\n",
      "A-ha! It is now 0.2333333333333333\n",
      "A-ha! It is now 0.3333333333333333\n",
      "A-ha! It is now 0.4333333333333333\n",
      "A-ha! It is now 0.5333333333333333\n",
      "A-ha! It is now 0.6\n",
      "A-ha! It is now 0.7\n",
      "A-ha! It is now 0.7999999999999999\n",
      "A-ha! It is now 0.8999999999999999\n",
      "A-ha! It is now 0.9999999999999999\n",
      "A-ha! It is now 1.1\n",
      "A-ha! It is now 1.2000000000000004\n",
      "A-ha! It is now 1.3000000000000007\n",
      "A-ha! It is now 1.400000000000001\n",
      "A-ha! It is now 1.5000000000000013\n",
      "A-ha! It is now 1.6000000000000016\n",
      "A-ha! It is now 1.700000000000002\n",
      "A-ha! It is now 1.8000000000000023\n",
      "A-ha! It is now 1.9000000000000026\n",
      "A-ha! It is now 2.0000000000000027\n",
      "A-ha! It is now 2.1000000000000023\n",
      "A-ha! It is now 2.200000000000002\n",
      "A-ha! It is now 2.3000000000000016\n",
      "A-ha! It is now 2.4000000000000012\n",
      "A-ha! It is now 2.500000000000001\n",
      "A-ha! It is now 2.6333333333333337\n",
      "A-ha! It is now 2.7333333333333334\n",
      "A-ha! It is now 2.833333333333333\n",
      "A-ha! It is now 2.9333333333333327\n",
      "A-ha! It is now 3.0333333333333323\n",
      "A-ha! It is now 3.133333333333332\n",
      "A-ha! It is now 3.2333333333333316\n",
      "A-ha! It is now 3.3333333333333313\n",
      "A-ha! It is now 3.433333333333331\n",
      "A-ha! It is now 3.5333333333333306\n",
      "A-ha! It is now 3.63333333333333\n",
      "A-ha! It is now 3.73333333333333\n",
      "A-ha! It is now 3.8333333333333295\n",
      "A-ha! It is now 3.933333333333329\n",
      "A-ha! It is now 4.033333333333329\n",
      "A-ha! It is now 4.133333333333328\n",
      "A-ha! It is now 4.233333333333328\n",
      "A-ha! It is now 4.333333333333328\n",
      "A-ha! It is now 4.433333333333327\n",
      "A-ha! It is now 4.533333333333327\n",
      "A-ha! It is now 4.633333333333327\n",
      "A-ha! It is now 4.733333333333326\n",
      "A-ha! It is now 4.833333333333326\n",
      "A-ha! It is now 4.933333333333326\n"
     ]
    }
   ],
   "source": [
    "GC = GlobalClock(1/30, 2, start=0)\n",
    "TA1 = TimedAgent(10, 0)\n",
    "\n",
    "while GC.time <= 5:\n",
    "    TA1.test_print(GC.time)\n",
    "    GC.update()"
   ]
  },
  {
   "cell_type": "code",
   "execution_count": 9,
   "id": "8795babc",
   "metadata": {},
   "outputs": [
    {
     "data": {
      "text/plain": [
       "True"
      ]
     },
     "execution_count": 9,
     "metadata": {},
     "output_type": "execute_result"
    }
   ],
   "source": [
    "TA1.check_time(0)"
   ]
  },
  {
   "cell_type": "code",
   "execution_count": 10,
   "id": "3be34658",
   "metadata": {},
   "outputs": [
    {
     "data": {
      "text/plain": [
       "0.1"
      ]
     },
     "execution_count": 10,
     "metadata": {},
     "output_type": "execute_result"
    }
   ],
   "source": [
    "TA1.next_update_time"
   ]
  },
  {
   "cell_type": "code",
   "execution_count": 10,
   "id": "cd1d9cef",
   "metadata": {},
   "outputs": [
    {
     "data": {
      "text/plain": [
       "array([nan, nan, nan])"
      ]
     },
     "execution_count": 10,
     "metadata": {},
     "output_type": "execute_result"
    }
   ],
   "source": [
    "import numpy as np\n",
    "import pandas as pd\n",
    "\n",
    "test = np.empty(3)\n",
    "test[:] = np.NaN\n",
    "test"
   ]
  },
  {
   "cell_type": "code",
   "execution_count": 11,
   "id": "b9d90f8c",
   "metadata": {},
   "outputs": [
    {
     "data": {
      "text/plain": [
       "array([ True, False])"
      ]
     },
     "execution_count": 11,
     "metadata": {},
     "output_type": "execute_result"
    }
   ],
   "source": [
    "np.array([None, 1])==None"
   ]
  },
  {
   "cell_type": "code",
   "execution_count": 15,
   "id": "81b61a2b",
   "metadata": {},
   "outputs": [
    {
     "data": {
      "text/html": [
       "<div>\n",
       "<style scoped>\n",
       "    .dataframe tbody tr th:only-of-type {\n",
       "        vertical-align: middle;\n",
       "    }\n",
       "\n",
       "    .dataframe tbody tr th {\n",
       "        vertical-align: top;\n",
       "    }\n",
       "\n",
       "    .dataframe thead th {\n",
       "        text-align: right;\n",
       "    }\n",
       "</style>\n",
       "<table border=\"1\" class=\"dataframe\">\n",
       "  <thead>\n",
       "    <tr style=\"text-align: right;\">\n",
       "      <th></th>\n",
       "      <th>Leg No.</th>\n",
       "      <th>Target Speed</th>\n",
       "      <th>Mode</th>\n",
       "      <th>Starting Wpt</th>\n",
       "      <th>EDT</th>\n",
       "      <th>Ending Wpt</th>\n",
       "      <th>ETA</th>\n",
       "    </tr>\n",
       "  </thead>\n",
       "  <tbody>\n",
       "    <tr>\n",
       "      <th>0</th>\n",
       "      <td>1</td>\n",
       "      <td>0</td>\n",
       "      <td>Hover</td>\n",
       "      <td>[10, 0, 0]</td>\n",
       "      <td>0</td>\n",
       "      <td>[10, 0, 0]</td>\n",
       "      <td>20</td>\n",
       "    </tr>\n",
       "    <tr>\n",
       "      <th>1</th>\n",
       "      <td>2</td>\n",
       "      <td>0</td>\n",
       "      <td>Hover</td>\n",
       "      <td>[10, 0, 0]</td>\n",
       "      <td>20</td>\n",
       "      <td>[10, 0, 0]</td>\n",
       "      <td>40</td>\n",
       "    </tr>\n",
       "  </tbody>\n",
       "</table>\n",
       "</div>"
      ],
      "text/plain": [
       "   Leg No.  Target Speed   Mode Starting Wpt  EDT  Ending Wpt  ETA\n",
       "0        1             0  Hover   [10, 0, 0]    0  [10, 0, 0]   20\n",
       "1        2             0  Hover   [10, 0, 0]   20  [10, 0, 0]   40"
      ]
     },
     "execution_count": 15,
     "metadata": {},
     "output_type": "execute_result"
    }
   ],
   "source": [
    "class FlightPlan(object):\n",
    "    def __init__(self,\n",
    "                 leg_num,\n",
    "                 leg_spd,\n",
    "                 mode,\n",
    "                 wpt_start, wpt_start_time,\n",
    "                 wpt_end, wpt_end_time):\n",
    "        self.plan = pd.DataFrame({'Leg No.':leg_num, 'Target Speed':leg_spd, 'Mode':mode, \n",
    "                                  'Starting Wpt':wpt_start, 'EDT':wpt_start_time, \n",
    "                                  'Ending Wpt':wpt_end, 'ETA':wpt_end_time})\n",
    "        \n",
    "# testplan = FlightPlan([1,2,3,4], [5,5,5,5], ['Direct', 'Direct', 'Direct', 'Direct'], \n",
    "#                      [[0,10,0],[50,0,0],[50,50,0],[70,70,20]],[np.NaN, np.NaN, np.NaN, np.NaN],\n",
    "#                      [[50,0,0],[50,50,0],[70,70,20],[0,0,0]],[np.NaN, np.NaN, np.NaN, np.NaN] )\n",
    "\n",
    "testplan = FlightPlan([1,2], [0, 0], ['Hover','Hover'], \n",
    "                     [[10,0,0],[10,0,0]],[0, 20],\n",
    "                     [[10,0,0],[10,0,0]],[20, 40])\n",
    "\n",
    "testplan.plan"
   ]
  },
  {
   "cell_type": "code",
   "execution_count": 6,
   "id": "3c29894a",
   "metadata": {},
   "outputs": [],
   "source": [
    "interval = 0.001\n",
    "\n",
    "class PID_test(object):\n",
    "    def __init__(self, PID):\n",
    "        self.p = PID[0]\n",
    "        self.i = PID[1]\n",
    "        self.d = PID[2]\n",
    "        self.p_err = 0\n",
    "        self.i_err = 0\n",
    "        self.d_err = 0\n",
    "        self.err = 0\n",
    "        self.interval = interval\n",
    "    def calc_pseudo_f(self, err):\n",
    "        self.i_err += err\n",
    "        self.d_err = (err - self.err)/interval\n",
    "        self.err = err\n",
    "        return self.p * err + self.i * self.i_err + self.d_err * self.d\n",
    "    \n",
    "num = 100000\n",
    "\n",
    "x_pos = 10\n",
    "x_dot = 0\n",
    "time = 0\n",
    "\n",
    "x_list = [x_pos]\n",
    "x_dot_list = [x_dot]\n",
    "time_list = [time]\n",
    "\n",
    "x_pos_tgt = 0\n",
    "x_spd_tgt = 10\n",
    "\n",
    "# Hover controller\n",
    "# controller = PID_test([1, 0, 0.8])\n",
    "# Speed controller\n",
    "controller = PID_test([1, 0, 0.8])\n",
    "\n",
    "for i in range(num):\n",
    "    # error = -(x_pos - x_pos_tgt)\n",
    "    error = -(x_dot - x_spd_tgt)\n",
    "    accel = controller.calc_pseudo_f(error)\n",
    "    x_pos += interval * x_dot\n",
    "    x_dot += accel * interval\n",
    "    time += interval\n",
    "    \n",
    "    x_list.append(x_pos)\n",
    "    x_dot_list.append(x_dot)\n",
    "    time_list.append(time)"
   ]
  },
  {
   "cell_type": "code",
   "execution_count": 7,
   "id": "c2e16b8b",
   "metadata": {},
   "outputs": [
    {
     "data": {
      "text/plain": [
       "Text(0.5, 1.0, 'Velocity trace')"
      ]
     },
     "execution_count": 7,
     "metadata": {},
     "output_type": "execute_result"
    },
    {
     "data": {
      "image/png": "[encoded data removed]",
      "text/plain": [
       "<Figure size 864x432 with 2 Axes>"
      ]
     },
     "metadata": {
      "needs_background": "light"
     },
     "output_type": "display_data"
    }
   ],
   "source": [
    "import matplotlib.pyplot as plt\n",
    "\n",
    "fig, ax = plt.subplots(ncols=2, figsize=(12,6))\n",
    "\n",
    "ax[0].plot(time_list, x_list)\n",
    "ax[0].set_title('Position trace')\n",
    "\n",
    "ax[1].plot(time_list, x_dot_list)\n",
    "ax[1].set_title('Velocity trace')"
   ]
  },
  {
   "cell_type": "code",
   "execution_count": 1,
   "id": "e18fe0bc",
   "metadata": {},
   "outputs": [
    {
     "data": {
      "text/plain": [
       "1"
      ]
     },
     "execution_count": 1,
     "metadata": {},
     "output_type": "execute_result"
    }
   ],
   "source": [
    "import pandas as pd\n",
    "\n",
    "df = pd.DataFrame({'a':[1 ,2], 'b':[3, 4]})\n",
    "df.iloc[0]['a']"
   ]
  },
  {
   "cell_type": "code",
   "execution_count": 10,
   "id": "b50cec87",
   "metadata": {},
   "outputs": [
    {
     "name": "stdout",
     "output_type": "stream",
     "text": [
      "0.09994155464640561\n"
     ]
    }
   ],
   "source": [
    "from math import comb\n",
    "\n",
    "numerator = comb(57, 20) * comb(37, 20) * 3\n",
    "\n",
    "denominator = comb(60, 20) * comb(40, 20)\n",
    "\n",
    "print(numerator/denominator)"
   ]
  },
  {
   "cell_type": "code",
   "execution_count": 9,
   "id": "76723654",
   "metadata": {},
   "outputs": [
    {
     "data": {
      "text/plain": [
       "1"
      ]
     },
     "execution_count": 9,
     "metadata": {},
     "output_type": "execute_result"
    }
   ],
   "source": [
    "comb(3,3)"
   ]
  },
  {
   "cell_type": "code",
   "execution_count": 11,
   "id": "5853a580",
   "metadata": {},
   "outputs": [
    {
     "data": {
      "text/plain": [
       "0.09994155464640561"
      ]
     },
     "execution_count": 11,
     "metadata": {},
     "output_type": "execute_result"
    }
   ],
   "source": [
    "def calculator(k):\n",
    "    numerator = comb(k*3-3, k) * comb(k*2-3, k) * 3\n",
    "    denominator = comb(k*3, k) * comb(k*2, k)\n",
    "    return numerator/denominator\n",
    "\n",
    "calculator(20)"
   ]
  },
  {
   "cell_type": "code",
   "execution_count": 17,
   "id": "833b6c6b",
   "metadata": {},
   "outputs": [
    {
     "data": {
      "image/png": "[encoded data removed]",
      "text/plain": [
       "<Figure size 432x288 with 1 Axes>"
      ]
     },
     "metadata": {
      "needs_background": "light"
     },
     "output_type": "display_data"
    }
   ],
   "source": [
    "import matplotlib.pyplot as plt\n",
    "\n",
    "k = 10\n",
    "ks = []\n",
    "prob = []\n",
    "zh_theoretical = 1/9\n",
    "zh_th = []\n",
    "for i in range(1000):\n",
    "    ks.append(k)\n",
    "    prob.append(calculator(k))\n",
    "    zh_th.append(zh_theoretical)\n",
    "    k += 1\n",
    "\n",
    "fig, ax = plt.subplots()\n",
    "ax.scatter(ks, prob, label='KC exact answer')\n",
    "ax.plot(ks, zh_th, '--', label = 'ZH theoretical value')\n",
    "ax.legend()\n",
    "\n",
    "plt.show()"
   ]
  },
  {
   "cell_type": "code",
   "execution_count": 21,
   "id": "ceefd06e",
   "metadata": {},
   "outputs": [
    {
     "data": {
      "text/plain": [
       "{'cat': 1}"
      ]
     },
     "execution_count": 21,
     "metadata": {},
     "output_type": "execute_result"
    }
   ],
   "source": [
    "class state(object):\n",
    "    def __init__(self):\n",
    "        self.cat = 1\n",
    "        # self.trajectory = []\n",
    "    def return_dict(self):\n",
    "        return self.__dict__ \n",
    "    def update(self):\n",
    "        self.trajectory.append(self.return_dict().copy())\n",
    "\n",
    "cat = state()\n",
    "\n",
    "cat.return_dict()"
   ]
  },
  {
   "cell_type": "code",
   "execution_count": 24,
   "id": "d2261271",
   "metadata": {},
   "outputs": [
    {
     "data": {
      "text/html": [
       "<div>\n",
       "<style scoped>\n",
       "    .dataframe tbody tr th:only-of-type {\n",
       "        vertical-align: middle;\n",
       "    }\n",
       "\n",
       "    .dataframe tbody tr th {\n",
       "        vertical-align: top;\n",
       "    }\n",
       "\n",
       "    .dataframe thead th {\n",
       "        text-align: right;\n",
       "    }\n",
       "</style>\n",
       "<table border=\"1\" class=\"dataframe\">\n",
       "  <thead>\n",
       "    <tr style=\"text-align: right;\">\n",
       "      <th></th>\n",
       "      <th>a</th>\n",
       "      <th>b</th>\n",
       "    </tr>\n",
       "  </thead>\n",
       "  <tbody>\n",
       "    <tr>\n",
       "      <th>0</th>\n",
       "      <td>1</td>\n",
       "      <td>3</td>\n",
       "    </tr>\n",
       "    <tr>\n",
       "      <th>1</th>\n",
       "      <td>2</td>\n",
       "      <td>4</td>\n",
       "    </tr>\n",
       "  </tbody>\n",
       "</table>\n",
       "</div>"
      ],
      "text/plain": [
       "   a  b\n",
       "0  1  3\n",
       "1  2  4"
      ]
     },
     "execution_count": 24,
     "metadata": {},
     "output_type": "execute_result"
    }
   ],
   "source": [
    "df.copy()"
   ]
  },
  {
   "cell_type": "code",
   "execution_count": 25,
   "id": "28fb1476",
   "metadata": {},
   "outputs": [
    {
     "data": {
      "text/html": [
       "<div>\n",
       "<style scoped>\n",
       "    .dataframe tbody tr th:only-of-type {\n",
       "        vertical-align: middle;\n",
       "    }\n",
       "\n",
       "    .dataframe tbody tr th {\n",
       "        vertical-align: top;\n",
       "    }\n",
       "\n",
       "    .dataframe thead th {\n",
       "        text-align: right;\n",
       "    }\n",
       "</style>\n",
       "<table border=\"1\" class=\"dataframe\">\n",
       "  <thead>\n",
       "    <tr style=\"text-align: right;\">\n",
       "      <th></th>\n",
       "      <th>a</th>\n",
       "    </tr>\n",
       "  </thead>\n",
       "  <tbody>\n",
       "    <tr>\n",
       "      <th>0</th>\n",
       "      <td>0</td>\n",
       "    </tr>\n",
       "    <tr>\n",
       "      <th>1</th>\n",
       "      <td>1</td>\n",
       "    </tr>\n",
       "  </tbody>\n",
       "</table>\n",
       "</div>"
      ],
      "text/plain": [
       "   a\n",
       "0  0\n",
       "1  1"
      ]
     },
     "execution_count": 25,
     "metadata": {},
     "output_type": "execute_result"
    }
   ],
   "source": [
    "a = [0, 1]\n",
    "df = pd.DataFrame({'a':a})\n",
    "df"
   ]
  },
  {
   "cell_type": "code",
   "execution_count": 26,
   "id": "cd375baf",
   "metadata": {},
   "outputs": [
    {
     "data": {
      "text/plain": [
       "[1, 1]"
      ]
     },
     "execution_count": 26,
     "metadata": {},
     "output_type": "execute_result"
    }
   ],
   "source": [
    "a[0] = 1\n",
    "a"
   ]
  },
  {
   "cell_type": "code",
   "execution_count": 27,
   "id": "2e314e60",
   "metadata": {},
   "outputs": [
    {
     "data": {
      "text/html": [
       "<div>\n",
       "<style scoped>\n",
       "    .dataframe tbody tr th:only-of-type {\n",
       "        vertical-align: middle;\n",
       "    }\n",
       "\n",
       "    .dataframe tbody tr th {\n",
       "        vertical-align: top;\n",
       "    }\n",
       "\n",
       "    .dataframe thead th {\n",
       "        text-align: right;\n",
       "    }\n",
       "</style>\n",
       "<table border=\"1\" class=\"dataframe\">\n",
       "  <thead>\n",
       "    <tr style=\"text-align: right;\">\n",
       "      <th></th>\n",
       "      <th>a</th>\n",
       "    </tr>\n",
       "  </thead>\n",
       "  <tbody>\n",
       "    <tr>\n",
       "      <th>0</th>\n",
       "      <td>0</td>\n",
       "    </tr>\n",
       "    <tr>\n",
       "      <th>1</th>\n",
       "      <td>1</td>\n",
       "    </tr>\n",
       "  </tbody>\n",
       "</table>\n",
       "</div>"
      ],
      "text/plain": [
       "   a\n",
       "0  0\n",
       "1  1"
      ]
     },
     "execution_count": 27,
     "metadata": {},
     "output_type": "execute_result"
    }
   ],
   "source": [
    "df"
   ]
  },
  {
   "cell_type": "code",
   "execution_count": 4,
   "id": "a44d527a",
   "metadata": {},
   "outputs": [
    {
     "data": {
      "text/plain": [
       "array([2, 3, 8])"
      ]
     },
     "execution_count": 4,
     "metadata": {},
     "output_type": "execute_result"
    }
   ],
   "source": [
    "import numpy as np\n",
    "\n",
    "f = np.array([2,3,5])\n",
    "f[2] = np.clip(f[2], 8, 16)\n",
    "f"
   ]
  },
  {
   "cell_type": "code",
   "execution_count": null,
   "id": "20e52b3d",
   "metadata": {},
   "outputs": [],
   "source": []
  }
 ],
 "metadata": {
  "kernelspec": {
   "display_name": "Python 3",
   "language": "python",
   "name": "python3"
  },
  "language_info": {
   "codemirror_mode": {
    "name": "ipython",
    "version": 3
   },
   "file_extension": ".py",
   "mimetype": "text/x-python",
   "name": "python",
   "nbconvert_exporter": "python",
   "pygments_lexer": "ipython3",
   "version": "3.8.8"
  }
 },
 "nbformat": 4,
 "nbformat_minor": 5
}

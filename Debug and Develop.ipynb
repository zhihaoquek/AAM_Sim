{
 "cells": [
  {
   "cell_type": "code",
   "execution_count": 1,
   "id": "93dfb044",
   "metadata": {},
   "outputs": [],
   "source": [
    "import numpy as np\n",
    "import platform\n",
    "\n",
    "from Engine.global_clock import GlobalClock, Agent\n",
    "\n",
    "def my_print(*args):\n",
    "    if platform.system() == 'Windows':\n",
    "        print(*args)"
   ]
  },
  {
   "cell_type": "code",
   "execution_count": 11,
   "id": "6a4e6eb0",
   "metadata": {},
   "outputs": [],
   "source": [
    "class TimedAgent(Agent):\n",
    "    def __init__(self, update_rate, start_time):\n",
    "        super().__init__(update_rate, start_time)\n",
    "    \n",
    "    def test_print(self, time):\n",
    "        if super().check_time(time):\n",
    "            my_print('A-ha! It is now {time}'.format(time = time))"
   ]
  },
  {
   "cell_type": "code",
   "execution_count": 14,
   "id": "8c155fa8",
   "metadata": {},
   "outputs": [
    {
     "name": "stdout",
     "output_type": "stream",
     "text": [
      "A-ha! It is now 0\n",
      "A-ha! It is now 0.1\n",
      "A-ha! It is now 0.2333333333333333\n",
      "A-ha! It is now 0.3333333333333333\n",
      "A-ha! It is now 0.4333333333333333\n",
      "A-ha! It is now 0.5333333333333333\n",
      "A-ha! It is now 0.6\n",
      "A-ha! It is now 0.7\n",
      "A-ha! It is now 0.7999999999999999\n",
      "A-ha! It is now 0.8999999999999999\n",
      "A-ha! It is now 0.9999999999999999\n",
      "A-ha! It is now 1.1\n",
      "A-ha! It is now 1.2000000000000004\n",
      "A-ha! It is now 1.3000000000000007\n",
      "A-ha! It is now 1.400000000000001\n",
      "A-ha! It is now 1.5000000000000013\n",
      "A-ha! It is now 1.6000000000000016\n",
      "A-ha! It is now 1.700000000000002\n",
      "A-ha! It is now 1.8000000000000023\n",
      "A-ha! It is now 1.9000000000000026\n",
      "A-ha! It is now 2.0000000000000027\n",
      "A-ha! It is now 2.1000000000000023\n",
      "A-ha! It is now 2.200000000000002\n",
      "A-ha! It is now 2.3000000000000016\n",
      "A-ha! It is now 2.4000000000000012\n",
      "A-ha! It is now 2.500000000000001\n",
      "A-ha! It is now 2.6333333333333337\n",
      "A-ha! It is now 2.7333333333333334\n",
      "A-ha! It is now 2.833333333333333\n",
      "A-ha! It is now 2.9333333333333327\n",
      "A-ha! It is now 3.0333333333333323\n",
      "A-ha! It is now 3.133333333333332\n",
      "A-ha! It is now 3.2333333333333316\n",
      "A-ha! It is now 3.3333333333333313\n",
      "A-ha! It is now 3.433333333333331\n",
      "A-ha! It is now 3.5333333333333306\n",
      "A-ha! It is now 3.63333333333333\n",
      "A-ha! It is now 3.73333333333333\n",
      "A-ha! It is now 3.8333333333333295\n",
      "A-ha! It is now 3.933333333333329\n",
      "A-ha! It is now 4.033333333333329\n",
      "A-ha! It is now 4.133333333333328\n",
      "A-ha! It is now 4.233333333333328\n",
      "A-ha! It is now 4.333333333333328\n",
      "A-ha! It is now 4.433333333333327\n",
      "A-ha! It is now 4.533333333333327\n",
      "A-ha! It is now 4.633333333333327\n",
      "A-ha! It is now 4.733333333333326\n",
      "A-ha! It is now 4.833333333333326\n",
      "A-ha! It is now 4.933333333333326\n"
     ]
    }
   ],
   "source": [
    "GC = GlobalClock(1/30, 2, start=0)\n",
    "TA1 = TimedAgent(10, 0)\n",
    "\n",
    "while GC.time <= 5:\n",
    "    TA1.test_print(GC.time)\n",
    "    GC.update()"
   ]
  },
  {
   "cell_type": "code",
   "execution_count": 9,
   "id": "8795babc",
   "metadata": {},
   "outputs": [
    {
     "data": {
      "text/plain": [
       "True"
      ]
     },
     "execution_count": 9,
     "metadata": {},
     "output_type": "execute_result"
    }
   ],
   "source": [
    "TA1.check_time(0)"
   ]
  },
  {
   "cell_type": "code",
   "execution_count": 10,
   "id": "3be34658",
   "metadata": {},
   "outputs": [
    {
     "data": {
      "text/plain": [
       "0.1"
      ]
     },
     "execution_count": 10,
     "metadata": {},
     "output_type": "execute_result"
    }
   ],
   "source": [
    "TA1.next_update_time"
   ]
  },
  {
   "cell_type": "code",
   "execution_count": null,
   "id": "cd1d9cef",
   "metadata": {},
   "outputs": [],
   "source": []
  }
 ],
 "metadata": {
  "kernelspec": {
   "display_name": "Python 3 (ipykernel)",
   "language": "python",
   "name": "python3"
  },
  "language_info": {
   "codemirror_mode": {
    "name": "ipython",
    "version": 3
   },
   "file_extension": ".py",
   "mimetype": "text/x-python",
   "name": "python",
   "nbconvert_exporter": "python",
   "pygments_lexer": "ipython3",
   "version": "3.9.7"
  }
 },
 "nbformat": 4,
 "nbformat_minor": 5
}

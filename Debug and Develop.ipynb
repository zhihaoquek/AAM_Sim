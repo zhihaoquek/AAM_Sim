{
 "cells": [
  {
   "cell_type": "code",
   "execution_count": null,
   "id": "93dfb044",
   "metadata": {},
   "outputs": [],
   "source": [
    "import numpy as np\n",
    "import platform\n",
    "\n",
    "from Engine.global_clock import GlobalClock, Agent\n",
    "\n",
    "def my_print(*args):\n",
    "    if platform.system() == 'Windows':\n",
    "        print(*args)"
   ]
  },
  {
   "cell_type": "code",
   "execution_count": null,
   "id": "6a4e6eb0",
   "metadata": {},
   "outputs": [],
   "source": [
    "class TimedAgent(Agent):\n",
    "    def __init__(self, update_rate, start_time):\n",
    "        super().__init__(update_rate, start_time)\n",
    "    \n",
    "    def test_print(self, time):\n",
    "        if super().check_time(time):\n",
    "            my_print('A-ha! It is now {time}'.format(time = time))"
   ]
  },
  {
   "cell_type": "code",
   "execution_count": null,
   "id": "8c155fa8",
   "metadata": {},
   "outputs": [],
   "source": [
    "GC = GlobalClock(1/30, 2, start=0)\n",
    "TA1 = TimedAgent(10, 0)\n",
    "\n",
    "while GC.time <= 5:\n",
    "    TA1.test_print(GC.time)\n",
    "    GC.update()"
   ]
  },
  {
   "cell_type": "code",
   "execution_count": null,
   "id": "8795babc",
   "metadata": {},
   "outputs": [],
   "source": [
    "TA1.check_time(0)"
   ]
  },
  {
   "cell_type": "code",
   "execution_count": null,
   "id": "3be34658",
   "metadata": {},
   "outputs": [],
   "source": [
    "TA1.next_update_time"
   ]
  },
  {
   "cell_type": "code",
   "execution_count": null,
   "id": "cd1d9cef",
   "metadata": {},
   "outputs": [],
   "source": [
    "import numpy as np\n",
    "import pandas as pd\n",
    "\n",
    "test = np.empty(3)\n",
    "test[:] = np.NaN\n",
    "test"
   ]
  },
  {
   "cell_type": "code",
   "execution_count": null,
   "id": "b9d90f8c",
   "metadata": {},
   "outputs": [],
   "source": [
    "np.array([None, 1])==None"
   ]
  },
  {
   "cell_type": "code",
   "execution_count": null,
   "id": "81b61a2b",
   "metadata": {},
   "outputs": [],
   "source": [
    "class FlightPlan(object):\n",
    "    def __init__(self,\n",
    "                 leg_num,\n",
    "                 leg_spd,\n",
    "                 mode,\n",
    "                 wpt_start, wpt_start_time,\n",
    "                 wpt_end, wpt_end_time):\n",
    "        self.plan = pd.DataFrame({'Leg No.':leg_num, 'Target Speed':leg_spd, 'Mode':mode, \n",
    "                                  'Starting Wpt':wpt_start, 'EDT':wpt_start_time, \n",
    "                                  'Ending Wpt':wpt_end, 'ETA':wpt_end_time})\n",
    "        \n",
    "# testplan = FlightPlan([1,2,3,4], [5,5,5,5], ['Direct', 'Direct', 'Direct', 'Direct'], \n",
    "#                      [[0,10,0],[50,0,0],[50,50,0],[70,70,20]],[np.NaN, np.NaN, np.NaN, np.NaN],\n",
    "#                      [[50,0,0],[50,50,0],[70,70,20],[0,0,0]],[np.NaN, np.NaN, np.NaN, np.NaN] )\n",
    "\n",
    "testplan = FlightPlan([1,2], [0, 0], ['Hover','Hover'], \n",
    "                     [[10,0,0],[10,0,0]],[0, 20],\n",
    "                     [[10,0,0],[10,0,0]],[20, 40])\n",
    "\n",
    "testplan.plan"
   ]
  },
  {
   "cell_type": "code",
   "execution_count": null,
   "id": "3c29894a",
   "metadata": {},
   "outputs": [],
   "source": [
    "interval = 0.001\n",
    "\n",
    "class PID_test(object):\n",
    "    def __init__(self, PID):\n",
    "        self.p = PID[0]\n",
    "        self.i = PID[1]\n",
    "        self.d = PID[2]\n",
    "        self.p_err = 0\n",
    "        self.i_err = 0\n",
    "        self.d_err = 0\n",
    "        self.err = 0\n",
    "        self.interval = interval\n",
    "    def calc_pseudo_f(self, err):\n",
    "        self.i_err += err\n",
    "        self.d_err = (err - self.err)/interval\n",
    "        self.err = err\n",
    "        return self.p * err + self.i * self.i_err + self.d_err * self.d\n",
    "    \n",
    "num = 100000\n",
    "\n",
    "x_pos = 10\n",
    "x_dot = 0\n",
    "time = 0\n",
    "\n",
    "x_list = [x_pos]\n",
    "x_dot_list = [x_dot]\n",
    "time_list = [time]\n",
    "\n",
    "x_pos_tgt = 0\n",
    "x_spd_tgt = 10\n",
    "\n",
    "# Hover controller\n",
    "# controller = PID_test([1, 0, 0.8])\n",
    "# Speed controller\n",
    "controller = PID_test([1, 0, 0.8])\n",
    "\n",
    "for i in range(num):\n",
    "    # error = -(x_pos - x_pos_tgt)\n",
    "    error = -(x_dot - x_spd_tgt)\n",
    "    accel = controller.calc_pseudo_f(error)\n",
    "    x_pos += interval * x_dot\n",
    "    x_dot += accel * interval\n",
    "    time += interval\n",
    "    \n",
    "    x_list.append(x_pos)\n",
    "    x_dot_list.append(x_dot)\n",
    "    time_list.append(time)"
   ]
  },
  {
   "cell_type": "code",
   "execution_count": null,
   "id": "c2e16b8b",
   "metadata": {},
   "outputs": [],
   "source": [
    "import matplotlib.pyplot as plt\n",
    "\n",
    "fig, ax = plt.subplots(ncols=2, figsize=(12,6))\n",
    "\n",
    "ax[0].plot(time_list, x_list)\n",
    "ax[0].set_title('Position trace')\n",
    "\n",
    "ax[1].plot(time_list, x_dot_list)\n",
    "ax[1].set_title('Velocity trace')"
   ]
  },
  {
   "cell_type": "code",
   "execution_count": null,
   "id": "e18fe0bc",
   "metadata": {},
   "outputs": [],
   "source": [
    "import pandas as pd\n",
    "\n",
    "df = pd.DataFrame({'a':[1 ,2], 'b':[3, 4]})\n",
    "df.iloc[0]['a']"
   ]
  },
  {
   "cell_type": "code",
   "execution_count": null,
   "id": "b50cec87",
   "metadata": {},
   "outputs": [],
   "source": [
    "from math import comb\n",
    "\n",
    "numerator = comb(57, 20) * comb(37, 20) * 3\n",
    "\n",
    "denominator = comb(60, 20) * comb(40, 20)\n",
    "\n",
    "print(numerator/denominator)"
   ]
  },
  {
   "cell_type": "code",
   "execution_count": null,
   "id": "76723654",
   "metadata": {},
   "outputs": [],
   "source": [
    "comb(3,3)"
   ]
  },
  {
   "cell_type": "code",
   "execution_count": null,
   "id": "5853a580",
   "metadata": {},
   "outputs": [],
   "source": [
    "def calculator(k):\n",
    "    numerator = comb(k*3-3, k) * comb(k*2-3, k) * 3\n",
    "    denominator = comb(k*3, k) * comb(k*2, k)\n",
    "    return numerator/denominator\n",
    "\n",
    "calculator(20)"
   ]
  },
  {
   "cell_type": "code",
   "execution_count": null,
   "id": "833b6c6b",
   "metadata": {},
   "outputs": [],
   "source": [
    "import matplotlib.pyplot as plt\n",
    "\n",
    "k = 10\n",
    "ks = []\n",
    "prob = []\n",
    "zh_theoretical = 1/9\n",
    "zh_th = []\n",
    "for i in range(1000):\n",
    "    ks.append(k)\n",
    "    prob.append(calculator(k))\n",
    "    zh_th.append(zh_theoretical)\n",
    "    k += 1\n",
    "\n",
    "fig, ax = plt.subplots()\n",
    "ax.scatter(ks, prob, label='KC exact answer')\n",
    "ax.plot(ks, zh_th, '--', label = 'ZH theoretical value')\n",
    "ax.legend()\n",
    "\n",
    "plt.show()"
   ]
  },
  {
   "cell_type": "code",
   "execution_count": null,
   "id": "ceefd06e",
   "metadata": {},
   "outputs": [],
   "source": [
    "class state(object):\n",
    "    def __init__(self):\n",
    "        self.cat = 1\n",
    "        # self.trajectory = []\n",
    "    def return_dict(self):\n",
    "        return self.__dict__ \n",
    "    def update(self):\n",
    "        self.trajectory.append(self.return_dict().copy())\n",
    "\n",
    "cat = state()\n",
    "\n",
    "cat.return_dict()"
   ]
  },
  {
   "cell_type": "code",
   "execution_count": null,
   "id": "d2261271",
   "metadata": {},
   "outputs": [],
   "source": [
    "df.copy()"
   ]
  },
  {
   "cell_type": "code",
   "execution_count": null,
   "id": "28fb1476",
   "metadata": {},
   "outputs": [],
   "source": [
    "a = [0, 1]\n",
    "df = pd.DataFrame({'a':a})\n",
    "df"
   ]
  },
  {
   "cell_type": "code",
   "execution_count": null,
   "id": "cd375baf",
   "metadata": {},
   "outputs": [],
   "source": [
    "a[0] = 1\n",
    "a"
   ]
  },
  {
   "cell_type": "code",
   "execution_count": null,
   "id": "2e314e60",
   "metadata": {},
   "outputs": [],
   "source": [
    "df"
   ]
  },
  {
   "cell_type": "code",
   "execution_count": 1,
   "id": "a44d527a",
   "metadata": {},
   "outputs": [],
   "source": [
    "import numpy as np\n",
    "import matplotlib.pyplot as plt\n",
    "\n",
    "def lambda_calculator(A, B, C):\n",
    "    \"\"\"Calculates lambda parameter given 3 points.\n",
    "    A --> Starting wpt\n",
    "    B --> Ending wpt\n",
    "    C --> Aircraft position\"\"\"\n",
    "    CA = C-A\n",
    "    BA = B-A\n",
    "    l = np.dot(CA, BA)/np.dot(BA, BA)\n",
    "    return l\n",
    "\n",
    "def line_generator(A, B):\n",
    "    BA = B - A\n",
    "    return lambda x: A + x*BA"
   ]
  },
  {
   "cell_type": "code",
   "execution_count": 2,
   "id": "8a9e3b80",
   "metadata": {},
   "outputs": [],
   "source": [
    "point_a = np.array([0,0,0])\n",
    "point_b = np.array([2,2,0])\n",
    "point_c = np.array([-3,1,0])\n",
    "\n",
    "points_list = [point_a, point_b]\n",
    "\n",
    "gen_AB = line_generator(point_a, point_b)\n",
    "# gen_AB(1)\n",
    "\n",
    "lambda_param = lambda_calculator(point_a, point_b, point_c)\n",
    "lambda_point = gen_AB(lambda_param)\n",
    "\n",
    "points_list2 = [lambda_point, point_c]\n",
    "\n",
    "gen_CL = line_generator(point_c, lambda_point)\n",
    "               \n",
    "xyz = np.array([])\n",
    "xyz2 = np.array([])\n",
    "genlist = np.arange(0.05, 1, 0.05)\n",
    "for ds in genlist:\n",
    "    xyz = np.append(xyz, gen_AB(ds))\n",
    "    xyz2 = np.append(xyz2, gen_CL(ds))\n",
    "\n",
    "xyz = xyz.reshape(len(genlist), 3)\n",
    "xyz2 = xyz2.reshape(len(genlist), 3)"
   ]
  },
  {
   "cell_type": "code",
   "execution_count": 3,
   "id": "f69647b5",
   "metadata": {},
   "outputs": [],
   "source": [
    "# xyz = np.array([])\n",
    "# xyz = np.append(xyz, point_a)\n",
    "# xyz = np.append(xyz, point_a)\n",
    "# xyz = np.append(xyz, point_b)\n",
    "# xyz = np.append(xyz, point_b)\n",
    "# xyz = xyz.reshape(4, 3)"
   ]
  },
  {
   "cell_type": "code",
   "execution_count": 4,
   "id": "20e52b3d",
   "metadata": {},
   "outputs": [
    {
     "data": {
      "image/png": "[encoded data removed]",
      "text/plain": [
       "<Figure size 432x432 with 1 Axes>"
      ]
     },
     "metadata": {
      "needs_background": "light"
     },
     "output_type": "display_data"
    }
   ],
   "source": [
    "fig = plt.figure(figsize=(6,6))\n",
    "ax = fig.add_subplot(projection='3d')\n",
    "\n",
    "\n",
    "ax.scatter(xyz[:,0], \n",
    "           xyz[:,1], \n",
    "           xyz[:,2], c='b')\n",
    "\n",
    "ax.scatter(xyz2[:,0], \n",
    "           xyz2[:,1], \n",
    "           xyz2[:,2], c='orange')\n",
    "\n",
    "for wpt in points_list:\n",
    "    xx, yy, zz = wpt\n",
    "    ax.scatter(xx, yy, zz, c='r')\n",
    "    \n",
    "for wpt in points_list2:\n",
    "    xx, yy, zz = wpt\n",
    "    ax.scatter(xx, yy, zz, c='g')"
   ]
  },
  {
   "cell_type": "code",
   "execution_count": 9,
   "id": "87a7f375",
   "metadata": {},
   "outputs": [
    {
     "name": "stdout",
     "output_type": "stream",
     "text": [
      "CL dot BA:  0.0\n",
      "[-1. -1.  0.]\n",
      "Lambda param: -0.5\n"
     ]
    }
   ],
   "source": [
    "CL = point_c - lambda_point\n",
    "BA = point_b - point_a\n",
    "\n",
    "print('CL dot BA: ', round(np.dot(CL, BA), 6))\n",
    "print(lambda_point.round(decimals=4))\n",
    "print('Lambda param: {lambda_p}'.format(lambda_p = round(lambda_param, 4)))"
   ]
  },
  {
   "cell_type": "code",
   "execution_count": 10,
   "id": "9a3628f0",
   "metadata": {},
   "outputs": [],
   "source": [
    "class PseudoForceCalculator(object):\n",
    "    \"\"\"Calculates a pseudo-force/acceleration in transformed coordinates corresponding,\n",
    "    similar to Frenet-Serret frame. This \"force\" will then be transformed back into the body-frame. \"\"\"\n",
    "\n",
    "    def __init__(self, p, i, d, interval):\n",
    "        self.p = p\n",
    "        self.i = i\n",
    "        self.d = d\n",
    "        self.interval = interval\n",
    "        self.err = np.zeros(3)\n",
    "        self.d_err = np.zeros(3)\n",
    "        self.i_err = np.zeros(3)\n",
    "\n",
    "    def calculate(self, err, d_err=None):\n",
    "        self.i_err += err\n",
    "        self.d_err = (err - self.err) / self.interval\n",
    "        self.err = err\n",
    "        if d_err is None:\n",
    "            return -(self.p * self.err + self.i * self.i_err + self.d * self.d_err)\n",
    "        else:\n",
    "            return -(self.p * self.err + self.i * self.i_err + self.d * d_err)\n",
    "\n",
    "    def reset_i_err(self):\n",
    "        self.i_err = 0\n",
    "        \n",
    "        \n",
    "pid_P2P_vertical = np.array([0.5, 0, 2])\n",
    "P2P_vertical_pseudo_calculator = PseudoForceCalculator(pid_P2P_vertical[0],\n",
    "                                                       pid_P2P_vertical[1],\n",
    "                                                       pid_P2P_vertical[2],\n",
    "                                                       0.01)"
   ]
  },
  {
   "cell_type": "code",
   "execution_count": 11,
   "id": "7299fd5e",
   "metadata": {},
   "outputs": [
    {
     "data": {
      "text/plain": [
       "array([-0., -0., -0.])"
      ]
     },
     "execution_count": 11,
     "metadata": {},
     "output_type": "execute_result"
    }
   ],
   "source": [
    "P2P_vertical_pseudo_calculator.calculate(0, 0)"
   ]
  },
  {
   "cell_type": "code",
   "execution_count": 15,
   "id": "f26ade15",
   "metadata": {},
   "outputs": [
    {
     "data": {
      "text/plain": [
       "False"
      ]
     },
     "execution_count": 15,
     "metadata": {},
     "output_type": "execute_result"
    }
   ],
   "source": [
    "isinstance(pid_P2P_vertical, type(None))"
   ]
  },
  {
   "cell_type": "code",
   "execution_count": null,
   "id": "93c07ccc",
   "metadata": {},
   "outputs": [],
   "source": []
  }
 ],
 "metadata": {
  "kernelspec": {
   "display_name": "Python 3 (ipykernel)",
   "language": "python",
   "name": "python3"
  },
  "language_info": {
   "codemirror_mode": {
    "name": "ipython",
    "version": 3
   },
   "file_extension": ".py",
   "mimetype": "text/x-python",
   "name": "python",
   "nbconvert_exporter": "python",
   "pygments_lexer": "ipython3",
   "version": "3.9.7"
  }
 },
 "nbformat": 4,
 "nbformat_minor": 5
}

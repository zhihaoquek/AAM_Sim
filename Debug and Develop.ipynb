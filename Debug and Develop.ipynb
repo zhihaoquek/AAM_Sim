{
 "cells": [
  {
   "cell_type": "code",
   "execution_count": null,
   "id": "93dfb044",
   "metadata": {},
   "outputs": [],
   "source": [
    "import numpy as np\n",
    "import platform\n",
    "\n",
    "from Engine.global_clock import GlobalClock, Agent\n",
    "\n",
    "def my_print(*args):\n",
    "    if platform.system() == 'Windows':\n",
    "        print(*args)"
   ]
  },
  {
   "cell_type": "code",
   "execution_count": null,
   "id": "6a4e6eb0",
   "metadata": {},
   "outputs": [],
   "source": [
    "class TimedAgent(Agent):\n",
    "    def __init__(self, update_rate, start_time):\n",
    "        super().__init__(update_rate, start_time)\n",
    "    \n",
    "    def test_print(self, time):\n",
    "        if super().check_time(time):\n",
    "            my_print('A-ha! It is now {time}'.format(time = time))"
   ]
  },
  {
   "cell_type": "code",
   "execution_count": null,
   "id": "8c155fa8",
   "metadata": {},
   "outputs": [],
   "source": [
    "GC = GlobalClock(1/30, 2, start=0)\n",
    "TA1 = TimedAgent(10, 0)\n",
    "\n",
    "while GC.time <= 5:\n",
    "    TA1.test_print(GC.time)\n",
    "    GC.update()"
   ]
  },
  {
   "cell_type": "code",
   "execution_count": null,
   "id": "8795babc",
   "metadata": {},
   "outputs": [],
   "source": [
    "TA1.check_time(0)"
   ]
  },
  {
   "cell_type": "code",
   "execution_count": null,
   "id": "3be34658",
   "metadata": {},
   "outputs": [],
   "source": [
    "TA1.next_update_time"
   ]
  },
  {
   "cell_type": "code",
   "execution_count": null,
   "id": "cd1d9cef",
   "metadata": {},
   "outputs": [],
   "source": [
    "import numpy as np\n",
    "import pandas as pd\n",
    "\n",
    "test = np.empty(3)\n",
    "test[:] = np.NaN\n",
    "test"
   ]
  },
  {
   "cell_type": "code",
   "execution_count": null,
   "id": "b9d90f8c",
   "metadata": {},
   "outputs": [],
   "source": [
    "np.array([None, 1])==None"
   ]
  },
  {
   "cell_type": "code",
   "execution_count": null,
   "id": "81b61a2b",
   "metadata": {},
   "outputs": [],
   "source": [
    "class FlightPlan(object):\n",
    "    def __init__(self,\n",
    "                 leg_num,\n",
    "                 leg_spd,\n",
    "                 mode,\n",
    "                 wpt_start, wpt_start_time,\n",
    "                 wpt_end, wpt_end_time):\n",
    "        self.plan = pd.DataFrame({'Leg No.':leg_num, 'Target Speed':leg_spd, 'Mode':mode, \n",
    "                                  'Starting Wpt':wpt_start, 'EDT':wpt_start_time, \n",
    "                                  'Ending Wpt':wpt_end, 'ETA':wpt_end_time})\n",
    "        \n",
    "# testplan = FlightPlan([1,2,3,4], [5,5,5,5], ['Direct', 'Direct', 'Direct', 'Direct'], \n",
    "#                      [[0,10,0],[50,0,0],[50,50,0],[70,70,20]],[np.NaN, np.NaN, np.NaN, np.NaN],\n",
    "#                      [[50,0,0],[50,50,0],[70,70,20],[0,0,0]],[np.NaN, np.NaN, np.NaN, np.NaN] )\n",
    "\n",
    "testplan = FlightPlan([1,2], [0, 0], ['Hover','Hover'], \n",
    "                     [[10,0,0],[10,0,0]],[0, 20],\n",
    "                     [[10,0,0],[10,0,0]],[20, 40])\n",
    "\n",
    "testplan.plan"
   ]
  },
  {
   "cell_type": "code",
   "execution_count": null,
   "id": "3c29894a",
   "metadata": {},
   "outputs": [],
   "source": [
    "interval = 0.001\n",
    "\n",
    "class PID_test(object):\n",
    "    def __init__(self, PID):\n",
    "        self.p = PID[0]\n",
    "        self.i = PID[1]\n",
    "        self.d = PID[2]\n",
    "        self.p_err = 0\n",
    "        self.i_err = 0\n",
    "        self.d_err = 0\n",
    "        self.err = 0\n",
    "        self.interval = interval\n",
    "    def calc_pseudo_f(self, err):\n",
    "        self.i_err += err\n",
    "        self.d_err = (err - self.err)/interval\n",
    "        self.err = err\n",
    "        return self.p * err + self.i * self.i_err + self.d_err * self.d\n",
    "    \n",
    "num = 100000\n",
    "\n",
    "x_pos = 10\n",
    "x_dot = 0\n",
    "time = 0\n",
    "\n",
    "x_list = [x_pos]\n",
    "x_dot_list = [x_dot]\n",
    "time_list = [time]\n",
    "\n",
    "x_pos_tgt = 0\n",
    "x_spd_tgt = 10\n",
    "\n",
    "# Hover controller\n",
    "# controller = PID_test([1, 0, 0.8])\n",
    "# Speed controller\n",
    "controller = PID_test([1, 0, 0.8])\n",
    "\n",
    "for i in range(num):\n",
    "    # error = -(x_pos - x_pos_tgt)\n",
    "    error = -(x_dot - x_spd_tgt)\n",
    "    accel = controller.calc_pseudo_f(error)\n",
    "    x_pos += interval * x_dot\n",
    "    x_dot += accel * interval\n",
    "    time += interval\n",
    "    \n",
    "    x_list.append(x_pos)\n",
    "    x_dot_list.append(x_dot)\n",
    "    time_list.append(time)"
   ]
  },
  {
   "cell_type": "code",
   "execution_count": null,
   "id": "c2e16b8b",
   "metadata": {},
   "outputs": [],
   "source": [
    "import matplotlib.pyplot as plt\n",
    "\n",
    "fig, ax = plt.subplots(ncols=2, figsize=(12,6))\n",
    "\n",
    "ax[0].plot(time_list, x_list)\n",
    "ax[0].set_title('Position trace')\n",
    "\n",
    "ax[1].plot(time_list, x_dot_list)\n",
    "ax[1].set_title('Velocity trace')"
   ]
  },
  {
   "cell_type": "code",
   "execution_count": null,
   "id": "e18fe0bc",
   "metadata": {},
   "outputs": [],
   "source": [
    "import pandas as pd\n",
    "\n",
    "df = pd.DataFrame({'a':[1 ,2], 'b':[3, 4]})\n",
    "df.iloc[0]['a']"
   ]
  },
  {
   "cell_type": "code",
   "execution_count": null,
   "id": "ceefd06e",
   "metadata": {},
   "outputs": [],
   "source": [
    "class state(object):\n",
    "    def __init__(self):\n",
    "        self.cat = 1\n",
    "        # self.trajectory = []\n",
    "    def return_dict(self):\n",
    "        return self.__dict__ \n",
    "    def update(self):\n",
    "        self.trajectory.append(self.return_dict().copy())\n",
    "\n",
    "cat = state()\n",
    "\n",
    "cat.return_dict()"
   ]
  },
  {
   "cell_type": "code",
   "execution_count": null,
   "id": "d2261271",
   "metadata": {},
   "outputs": [],
   "source": [
    "df.copy()"
   ]
  },
  {
   "cell_type": "code",
   "execution_count": null,
   "id": "28fb1476",
   "metadata": {},
   "outputs": [],
   "source": [
    "a = [0, 1]\n",
    "df = pd.DataFrame({'a':a})\n",
    "df"
   ]
  },
  {
   "cell_type": "code",
   "execution_count": null,
   "id": "cd375baf",
   "metadata": {},
   "outputs": [],
   "source": [
    "a[0] = 1\n",
    "a"
   ]
  },
  {
   "cell_type": "code",
   "execution_count": null,
   "id": "2e314e60",
   "metadata": {},
   "outputs": [],
   "source": [
    "df"
   ]
  },
  {
   "cell_type": "code",
   "execution_count": 1,
   "id": "a44d527a",
   "metadata": {},
   "outputs": [],
   "source": [
    "import numpy as np\n",
    "import matplotlib.pyplot as plt\n",
    "\n",
    "def lambda_calculator(A, B, C):\n",
    "    \"\"\"Calculates lambda parameter given 3 points.\n",
    "    A --> Starting wpt\n",
    "    B --> Ending wpt\n",
    "    C --> Aircraft position\"\"\"\n",
    "    CA = C-A\n",
    "    BA = B-A\n",
    "    l = np.dot(CA, BA)/np.dot(BA, BA)\n",
    "    return l\n",
    "\n",
    "def line_generator(A, B):\n",
    "    BA = B - A\n",
    "    return lambda x: A + x*BA"
   ]
  },
  {
   "cell_type": "code",
   "execution_count": 2,
   "id": "8a9e3b80",
   "metadata": {},
   "outputs": [],
   "source": [
    "point_a = np.array([0,0,0])\n",
    "point_b = np.array([2,2,0])\n",
    "point_c = np.array([-3,1,0])\n",
    "\n",
    "points_list = [point_a, point_b]\n",
    "\n",
    "gen_AB = line_generator(point_a, point_b)\n",
    "# gen_AB(1)\n",
    "\n",
    "lambda_param = lambda_calculator(point_a, point_b, point_c)\n",
    "lambda_point = gen_AB(lambda_param)\n",
    "\n",
    "points_list2 = [lambda_point, point_c]\n",
    "\n",
    "gen_CL = line_generator(point_c, lambda_point)\n",
    "               \n",
    "xyz = np.array([])\n",
    "xyz2 = np.array([])\n",
    "genlist = np.arange(0.05, 1, 0.05)\n",
    "for ds in genlist:\n",
    "    xyz = np.append(xyz, gen_AB(ds))\n",
    "    xyz2 = np.append(xyz2, gen_CL(ds))\n",
    "\n",
    "xyz = xyz.reshape(len(genlist), 3)\n",
    "xyz2 = xyz2.reshape(len(genlist), 3)"
   ]
  },
  {
   "cell_type": "code",
   "execution_count": 3,
   "id": "f69647b5",
   "metadata": {},
   "outputs": [],
   "source": [
    "# xyz = np.array([])\n",
    "# xyz = np.append(xyz, point_a)\n",
    "# xyz = np.append(xyz, point_a)\n",
    "# xyz = np.append(xyz, point_b)\n",
    "# xyz = np.append(xyz, point_b)\n",
    "# xyz = xyz.reshape(4, 3)"
   ]
  },
  {
   "cell_type": "code",
   "execution_count": 4,
   "id": "20e52b3d",
   "metadata": {},
   "outputs": [
    {
     "data": {
      "image/png": "[encoded data removed]",
      "text/plain": [
       "<Figure size 432x432 with 1 Axes>"
      ]
     },
     "metadata": {
      "needs_background": "light"
     },
     "output_type": "display_data"
    }
   ],
   "source": [
    "fig = plt.figure(figsize=(6,6))\n",
    "ax = fig.add_subplot(projection='3d')\n",
    "\n",
    "\n",
    "ax.scatter(xyz[:,0], \n",
    "           xyz[:,1], \n",
    "           xyz[:,2], c='b')\n",
    "\n",
    "ax.scatter(xyz2[:,0], \n",
    "           xyz2[:,1], \n",
    "           xyz2[:,2], c='orange')\n",
    "\n",
    "for wpt in points_list:\n",
    "    xx, yy, zz = wpt\n",
    "    ax.scatter(xx, yy, zz, c='r')\n",
    "    \n",
    "for wpt in points_list2:\n",
    "    xx, yy, zz = wpt\n",
    "    ax.scatter(xx, yy, zz, c='g')"
   ]
  },
  {
   "cell_type": "code",
   "execution_count": 9,
   "id": "87a7f375",
   "metadata": {},
   "outputs": [
    {
     "name": "stdout",
     "output_type": "stream",
     "text": [
      "CL dot BA:  0.0\n",
      "[-1. -1.  0.]\n",
      "Lambda param: -0.5\n"
     ]
    }
   ],
   "source": [
    "CL = point_c - lambda_point\n",
    "BA = point_b - point_a\n",
    "\n",
    "print('CL dot BA: ', round(np.dot(CL, BA), 6))\n",
    "print(lambda_point.round(decimals=4))\n",
    "print('Lambda param: {lambda_p}'.format(lambda_p = round(lambda_param, 4)))"
   ]
  },
  {
   "cell_type": "code",
   "execution_count": 10,
   "id": "9a3628f0",
   "metadata": {},
   "outputs": [],
   "source": [
    "class PseudoForceCalculator(object):\n",
    "    \"\"\"Calculates a pseudo-force/acceleration in transformed coordinates corresponding,\n",
    "    similar to Frenet-Serret frame. This \"force\" will then be transformed back into the body-frame. \"\"\"\n",
    "\n",
    "    def __init__(self, p, i, d, interval):\n",
    "        self.p = p\n",
    "        self.i = i\n",
    "        self.d = d\n",
    "        self.interval = interval\n",
    "        self.err = np.zeros(3)\n",
    "        self.d_err = np.zeros(3)\n",
    "        self.i_err = np.zeros(3)\n",
    "\n",
    "    def calculate(self, err, d_err=None):\n",
    "        self.i_err += err\n",
    "        self.d_err = (err - self.err) / self.interval\n",
    "        self.err = err\n",
    "        if d_err is None:\n",
    "            return -(self.p * self.err + self.i * self.i_err + self.d * self.d_err)\n",
    "        else:\n",
    "            return -(self.p * self.err + self.i * self.i_err + self.d * d_err)\n",
    "\n",
    "    def reset_i_err(self):\n",
    "        self.i_err = 0\n",
    "        \n",
    "        \n",
    "pid_P2P_vertical = np.array([0.5, 0, 2])\n",
    "P2P_vertical_pseudo_calculator = PseudoForceCalculator(pid_P2P_vertical[0],\n",
    "                                                       pid_P2P_vertical[1],\n",
    "                                                       pid_P2P_vertical[2],\n",
    "                                                       0.01)"
   ]
  },
  {
   "cell_type": "code",
   "execution_count": 11,
   "id": "7299fd5e",
   "metadata": {},
   "outputs": [
    {
     "data": {
      "text/plain": [
       "array([-0., -0., -0.])"
      ]
     },
     "execution_count": 11,
     "metadata": {},
     "output_type": "execute_result"
    }
   ],
   "source": [
    "P2P_vertical_pseudo_calculator.calculate(0, 0)"
   ]
  },
  {
   "cell_type": "code",
   "execution_count": 2,
   "id": "f26ade15",
   "metadata": {},
   "outputs": [
    {
     "data": {
      "text/plain": [
       "True"
      ]
     },
     "execution_count": 2,
     "metadata": {},
     "output_type": "execute_result"
    }
   ],
   "source": [
    "isinstance(None, type(None))"
   ]
  },
  {
   "cell_type": "code",
   "execution_count": 1,
   "id": "93c07ccc",
   "metadata": {},
   "outputs": [
    {
     "data": {
      "text/plain": [
       "array([ 2, 54])"
      ]
     },
     "execution_count": 1,
     "metadata": {},
     "output_type": "execute_result"
    }
   ],
   "source": [
    "import numpy as np\n",
    "from scipy.spatial.transform import Rotation as R\n",
    "\n",
    "a = np.array([1,6])\n",
    "b = np.array([2,9])\n",
    "\n",
    "a*b\n",
    "\n"
   ]
  },
  {
   "cell_type": "code",
   "execution_count": 18,
   "id": "df68702f",
   "metadata": {},
   "outputs": [
    {
     "data": {
      "text/plain": [
       "array([[ 7.07106781e-01,  5.00000000e-01,  5.00000000e-01],\n",
       "       [ 5.55111512e-17,  7.07106781e-01, -7.07106781e-01],\n",
       "       [-7.07106781e-01,  5.00000000e-01,  5.00000000e-01]])"
      ]
     },
     "execution_count": 18,
     "metadata": {},
     "output_type": "execute_result"
    }
   ],
   "source": [
    "cur_rotation = R.from_euler('xyz', np.array([np.pi/4, np.pi/4, 0])).as_matrix()\n",
    "cur_rotation"
   ]
  },
  {
   "cell_type": "code",
   "execution_count": 19,
   "id": "f588285a",
   "metadata": {},
   "outputs": [
    {
     "data": {
      "text/plain": [
       "array([ 0.5       , -0.70710678,  0.5       ])"
      ]
     },
     "execution_count": 19,
     "metadata": {},
     "output_type": "execute_result"
    }
   ],
   "source": [
    "cat = np.dot(cur_rotation, np.array([0,0,1]))\n",
    "cat"
   ]
  },
  {
   "cell_type": "code",
   "execution_count": 21,
   "id": "e93b5f78",
   "metadata": {},
   "outputs": [
    {
     "data": {
      "text/plain": [
       "59.999999999999986"
      ]
     },
     "execution_count": 21,
     "metadata": {},
     "output_type": "execute_result"
    }
   ],
   "source": [
    "attitude = np.arcsin(np.sqrt(cat[0]**2 + cat[1]**2))\n",
    "attitude*180/np.pi"
   ]
  },
  {
   "cell_type": "code",
   "execution_count": 22,
   "id": "4922b16f",
   "metadata": {},
   "outputs": [
    {
     "data": {
      "text/plain": [
       "20.389702106700817"
      ]
     },
     "execution_count": 22,
     "metadata": {},
     "output_type": "execute_result"
    }
   ],
   "source": [
    "1.2 * 9.81 * np.tan(np.pi/3)"
   ]
  },
  {
   "cell_type": "code",
   "execution_count": 1,
   "id": "dcb64e32",
   "metadata": {},
   "outputs": [],
   "source": [
    "import numpy as np\n",
    "import pandas as pd\n",
    "from CrossPlatformDev import my_print\n",
    "from Engine.GlobalClock import Agent, TimeTriggeredAgent\n",
    "from Engine.TrackingSystem import TrackingUnit\n",
    "\n",
    "class SingleTrajectory(object):\n",
    "    \"\"\"Stores info for a single A/C trajectory. Main methods are to help retrieve/extrapolate data \n",
    "    from the stored trajectory. \"\"\"\n",
    "    def __init__(self, ident):\n",
    "        self.ident = ident\n",
    "        self.trajectory = []\n",
    "    \n",
    "    def update_trajectory(self, transmit_time, received_time, est_pos, est_vel):\n",
    "        self.trajectory.append(np.array([transmit_time, received_time, *est_pos, *est_vel]))\n",
    "        \n",
    "    def last_known_pos(self):\n",
    "        if len(self.trajectory) > 0:\n",
    "            return self.trajectory[-1][2:5]\n",
    "    \n",
    "    def last_known_vel(self):\n",
    "        if len(self.trajectory) > 0:\n",
    "            return self.trajectory[-1][5:8]\n",
    "    \n",
    "    def last_transmitted_time(self):\n",
    "        if len(self.trajectory) > 0:\n",
    "            return self.trajectory[-1][0]\n",
    "    \n",
    "    def last_received_time(self):\n",
    "        if len(self.trajectory) > 0:\n",
    "            return self.trajectory[-1][1]\n",
    "        \n",
    "    def extrapolate_pos(self, extrapolated_time):\n",
    "        if len(self.trajectory) > 0:\n",
    "            return (extrapolated_time - self.trajectory[-1][0]) * self.trajectory[-1][5:8] + self.trajectory[-1][2:5]\n",
    "        \n",
    "    \n",
    "class GroundStation(TimeTriggeredAgent):\n",
    "    def __init__(self, update_rate, start_time, phase_delay=0):\n",
    "        \"\"\"Class that handles updating of A/C trajectories. \n",
    "        Note: keys for self.tracked_objects and self.trajectories MUST be the same. \n",
    "        They should both refer to AC_ident.\"\"\"\n",
    "        super().__init__(update_rate, start_time, phase_delay)\n",
    "        self.tracked_objects = {}\n",
    "        self.trajectories = {}\n",
    "        \n",
    "    def add_airborne_tracker(self, AC_ident, tracking_unit):\n",
    "        \"\"\"Adds new tracking unit to synchronise info with ground tracking station.\"\"\"\n",
    "        self.tracked_objects[AC_ident] = tracking_unit\n",
    "        self.trajectories[AC_ident] = SingleTrajectory(AC_ident)\n",
    "        \n",
    "    def remove_airborne_tracker(self, AC_ident):\n",
    "        \"\"\"Note: trajectory is NOT deleted. \"\"\"\n",
    "        del self.tracked_objects[AC_ident]\n",
    "        \n",
    "    def track_and_update_trajectories(self, actual_time):\n",
    "        \"\"\"Note: rec time generated by the tracking unit is overwritten by actual time of the \n",
    "        ground system when data is appended to trajectory.\"\"\"\n",
    "        for AC_ident, tracking_unit in self.tracked_objects:\n",
    "            if len(tracking_unit.transmission_time) > 0:\n",
    "                if super().check_time_and_trigger(actual_time, tracking_unit.received_time):\n",
    "                    trans_time, rec_time1, est_pos, est_vel = tracking_unit.pop_from_queue()\n",
    "                    rec_time = actual_time\n",
    "                    self.trajectories[AC_ident].update_trajectory(trans_time, rec_time, est_pos, est_vel)"
   ]
  },
  {
   "cell_type": "code",
   "execution_count": 3,
   "id": "5f38b46f",
   "metadata": {},
   "outputs": [
    {
     "name": "stdout",
     "output_type": "stream",
     "text": [
      "0 is false-y\n"
     ]
    }
   ],
   "source": [
    "if 0:\n",
    "    print('0 is not false-y')\n",
    "else:\n",
    "    print('0 is false-y')"
   ]
  },
  {
   "cell_type": "code",
   "execution_count": 26,
   "id": "350ef837",
   "metadata": {},
   "outputs": [
    {
     "data": {
      "text/plain": [
       "[array([ 2.5,  2.5,  1. ,  1. ,  1. , -2. , -2. , -2. ])]"
      ]
     },
     "execution_count": 26,
     "metadata": {},
     "output_type": "execute_result"
    }
   ],
   "source": [
    "test_array = []\n",
    "pos = np.array([1,1,1])\n",
    "vel = np.array([-2,-2,-2])\n",
    "t1 = 2.5\n",
    "t2 = 3.5\n",
    "test_array.append(np.array([t1, t1, *pos, *vel]))\n",
    "# test_array.append(np.array([t2, t2, *pos, *vel]))\n",
    "test_array"
   ]
  },
  {
   "cell_type": "code",
   "execution_count": 27,
   "id": "ff00dbc3",
   "metadata": {},
   "outputs": [
    {
     "data": {
      "text/plain": [
       "array([[ 2.5,  2.5,  1. ,  1. ,  1. , -2. , -2. , -2. ]])"
      ]
     },
     "execution_count": 27,
     "metadata": {},
     "output_type": "execute_result"
    }
   ],
   "source": [
    "np.array(test_array)"
   ]
  },
  {
   "cell_type": "code",
   "execution_count": 28,
   "id": "7459e444",
   "metadata": {},
   "outputs": [
    {
     "data": {
      "text/plain": [
       "array([-2., -2., -2.])"
      ]
     },
     "execution_count": 28,
     "metadata": {},
     "output_type": "execute_result"
    }
   ],
   "source": [
    "test_array[-1][5:8]"
   ]
  },
  {
   "cell_type": "code",
   "execution_count": 5,
   "id": "2394cf96",
   "metadata": {},
   "outputs": [
    {
     "data": {
      "text/plain": [
       "{}"
      ]
     },
     "execution_count": 5,
     "metadata": {},
     "output_type": "execute_result"
    }
   ],
   "source": [
    "test_dict = {'AC1':10, 'AC2':20}\n",
    "del test_dict['AC1']\n",
    "del test_dict['AC2']\n",
    "test_dict"
   ]
  },
  {
   "cell_type": "code",
   "execution_count": 3,
   "id": "09d8a713",
   "metadata": {},
   "outputs": [
    {
     "data": {
      "text/plain": [
       "{'AC2': 20, 'AC1': 100}"
      ]
     },
     "execution_count": 3,
     "metadata": {},
     "output_type": "execute_result"
    }
   ],
   "source": [
    "test_dict['AC1'] = 100\n",
    "test_dict"
   ]
  },
  {
   "cell_type": "code",
   "execution_count": 8,
   "id": "34e6624f",
   "metadata": {},
   "outputs": [],
   "source": [
    "for key, val in test_dict.items():\n",
    "    print('Hi')"
   ]
  },
  {
   "cell_type": "code",
   "execution_count": 14,
   "id": "649f8230",
   "metadata": {},
   "outputs": [
    {
     "name": "stdout",
     "output_type": "stream",
     "text": [
      "Lol TypeError\n"
     ]
    }
   ],
   "source": [
    "try:\n",
    "    test_dict.keys()[5]\n",
    "except TypeError:\n",
    "    print('Lol TypeError')"
   ]
  },
  {
   "cell_type": "code",
   "execution_count": 93,
   "id": "a61c3759",
   "metadata": {},
   "outputs": [],
   "source": [
    "import numpy as np\n",
    "import pandas as pd\n",
    "from CrossPlatformDev import my_print\n",
    "from Engine.GlobalClock import Agent, TimeTriggeredAgent\n",
    "from Engine.TrackingSystem import TrackingUnit\n",
    "\n",
    "class ConflictDetector(Agent):\n",
    "    def __init__(self, update_rate, start_time, phase_delay=0):\n",
    "        super().__init__(update_rate, start_time, phase_delay)\n",
    "        self.conflict_definitions = {}\n",
    "        self.r_hor_sq = None\n",
    "        self.vert_dist = None\n",
    "        self.tau_DMOD = {}\n",
    "        self.taus = {}\n",
    "\n",
    "    def add_conflict_definition(self, condition_tag, condition):\n",
    "        conflict_history = {'condition': condition, 'conflict_start_time': [], 'conflict_end_time': [],\n",
    "                            'is_in_conflict': False}\n",
    "        self.conflict_definitions[condition_tag] = conflict_history\n",
    "        \n",
    "    def add_DMOD(self, DMOD_tag, DMOD):\n",
    "        self.tau_DMOD[DMOD_tag] = DMOD\n",
    "        if DMOD not in self.tau_DMOD.values():\n",
    "            self.taus[DMOD_tag] = None\n",
    "\n",
    "    def update_r_hor_sq_vert_dist(self, AC1_Pos, AC2_Pos):\n",
    "        self.r_hor_sq = (AC1_Pos - AC2_Pos)[0]**2 + (AC1_Pos - AC2_Pos)[1]**2\n",
    "        self.vert_dist = abs((AC1_Pos - AC2_Pos)[2])\n",
    "\n",
    "    def gen_distance_condition(self, hor_dist_min, vert_dist_min):\n",
    "        hor_r_min_sq = hor_dist_min**2\n",
    "\n",
    "        def check():\n",
    "            return (self.r_hor_sq <= hor_r_min_sq) & (self.vert_dist <= vert_dist_min)\n",
    "        return check\n",
    "\n",
    "    def conflict_check(self, time):\n",
    "        if super().check_time(time):\n",
    "            my_print('Time is %.1f, r_hor_sq is %.3f and vert_dist is %.3f'%(time, self.r_hor_sq, self.vert_dist))\n",
    "            my_print('Time is %.1f, taus: '%(time), self.taus)\n",
    "            for condition_history in self.conflict_definitions.values():\n",
    "                if (not condition_history['is_in_conflict']) & condition_history['condition']():\n",
    "                    condition_history['is_in_conflict'] = True\n",
    "                    condition_history['conflict_start_time'].append(time)\n",
    "                elif condition_history['is_in_conflict'] & (not condition_history['condition']()):\n",
    "                    condition_history['is_in_conflict'] = False\n",
    "                    condition_history['conflict_end_time'].append(time)\n",
    "\n",
    "    def get_earliest_conflict_start_time(self, conflict_tag):\n",
    "        if len(self.conflict_definitions[conflict_tag]['conflict_start_time']) > 0:\n",
    "            return min(self.conflict_definitions[conflict_tag]['conflict_start_time'])\n",
    "        else:\n",
    "            return None\n",
    "\n",
    "    def get_latest_conflict_end_time(self, conflict_tag):\n",
    "        if len(self.conflict_definitions[conflict_tag]['conflict_end_time']) > 0:\n",
    "            return max(self.conflict_definitions[conflict_tag]['conflict_end_time'])\n",
    "        else:\n",
    "            return None\n",
    "\n",
    "    def history_of_conflict(self, conflict_tag):\n",
    "        return len(self.conflict_definitions[conflict_tag]['conflict_start_time']) > 0\n",
    "    \n",
    "    def calculate_tau(self, AC1_Pos, AC2_Pos, AC1_Vel, AC2_Vel, DMOD):\n",
    "        r_hor = (AC2_Pos - AC1_Pos).copy()\n",
    "        r_hor[2] = 0\n",
    "        hor_dist = np.linalg.norm(r_hor)\n",
    "        if hor_dist <= DMOD:\n",
    "            tau_mod_hor = 0\n",
    "        else:\n",
    "            r_dot_hor = (1/hor_dist)* np.dot(r_hor, AC2_Vel-AC1_Vel)\n",
    "            if r_dot_hor == 0:\n",
    "                tau_mod_hor = 999\n",
    "            else:\n",
    "                tau_mod_hor = -(hor_dist**2 - DMOD**2)/(hor_dist * r_dot_hor) \n",
    "        vert_dist = (AC2_Pos - AC1_Pos)[2]\n",
    "        vert_speed = (AC2_Vel - AC1_Vel)[2]\n",
    "        if vert_speed == 0:\n",
    "            tau_vert = 999\n",
    "        else:\n",
    "            tau_vert = -vert_dist/(vert_speed)\n",
    "        return tau_mod_hor, tau_vert\n",
    "    \n",
    "    def update_taus(self, AC1_Pos, AC2_Pos, AC1_Vel, AC2_Vel):\n",
    "        \"\"\"Note: Make sure update_taus is called BEFORE condition is checked.\"\"\"\n",
    "        for DMOD_tag, DMOD in self.tau_DMOD.items():\n",
    "            self.taus[DMOD_tag] = self.calculate_tau(AC1_Pos, AC2_Pos, AC1_Vel, AC2_Vel, DMOD)\n",
    "            \n",
    "    def gen_tau_mod_condition(self, tau_mod_min, tau_vert_min, vert_min, DMOD):\n",
    "        \"\"\"Note: Make sure update_taus is called BEFORE condition is checked.\"\"\"\n",
    "        self.add_DMOD(str(DMOD), DMOD)\n",
    "            \n",
    "        def check():\n",
    "            tau_mod, tau_vert = self.taus[str(DMOD)]\n",
    "            return (0 <= tau_mod < tau_mod_min) & ((0 <= tau_vert < tau_vert_min) | (self.vert_dist <= vert_min))\n",
    "        return check"
   ]
  },
  {
   "cell_type": "code",
   "execution_count": 110,
   "id": "76675924",
   "metadata": {},
   "outputs": [
    {
     "data": {
      "text/plain": [
       "[array([25,  0, 11]),\n",
       " array([25,  0, 11]),\n",
       " array([25,  0, 11]),\n",
       " array([10,  0,  9]),\n",
       " array([10,  0,  9]),\n",
       " array([10,  0,  9]),\n",
       " array([10,  0,  9])]"
      ]
     },
     "execution_count": 110,
     "metadata": {},
     "output_type": "execute_result"
    }
   ],
   "source": [
    "pos_a = np.array([25,0,11])\n",
    "pos_b = np.array([0,0,0])\n",
    "\n",
    "pos_c = np.array([10,0,9])\n",
    "pos_d = np.array([0,0,0])\n",
    "\n",
    "\n",
    "timelist = [0,1,2]\n",
    "alist = [pos_a.copy(), pos_a.copy(), pos_a.copy()]\n",
    "blist = [pos_b.copy(), pos_b.copy(), pos_b.copy()]\n",
    "\n",
    "vel1 = np.array([1,0,0])\n",
    "vel2 = np.array([1,0,0])\n",
    "vel3 = np.array([1,0,1])\n",
    "\n",
    "vel_list_1 = [vel1.copy(), vel1.copy(), vel1.copy()]\n",
    "vel_list_2 = [vel2.copy(), vel2.copy(), vel3.copy()]\n",
    "\n",
    "t = 3\n",
    "for i in range(4):\n",
    "    if i%2 == 0:\n",
    "        alist.append(pos_c)\n",
    "        blist.append(pos_d)\n",
    "    else:\n",
    "        alist.append(pos_c)\n",
    "        blist.append(pos_d)\n",
    "    timelist.append(t)\n",
    "    vel_list_1.append(vel1.copy())\n",
    "    vel_list_2.append(vel2.copy())\n",
    "    t += 1\n",
    "\n",
    "# alist.append(pos_c)\n",
    "# blist.append(pos_d)\n",
    "# timelist.append(time + 1)\n",
    "alist"
   ]
  },
  {
   "cell_type": "code",
   "execution_count": 111,
   "id": "7a4e8ed7",
   "metadata": {},
   "outputs": [
    {
     "name": "stdout",
     "output_type": "stream",
     "text": [
      "Time is 0.0, r_hor_sq is 625.000 and vert_dist is 11.000\n",
      "Time is 0.0, taus:  {'10': (999, 999)}\n",
      "Time is 1.0, r_hor_sq is 625.000 and vert_dist is 11.000\n",
      "Time is 1.0, taus:  {'10': (999, 999)}\n",
      "Time is 2.0, r_hor_sq is 625.000 and vert_dist is 11.000\n",
      "Time is 2.0, taus:  {'10': (999, 11.0)}\n",
      "Time is 3.0, r_hor_sq is 100.000 and vert_dist is 9.000\n",
      "Time is 3.0, taus:  {'10': (0, 999)}\n",
      "Time is 4.0, r_hor_sq is 100.000 and vert_dist is 9.000\n",
      "Time is 4.0, taus:  {'10': (0, 999)}\n",
      "Time is 5.0, r_hor_sq is 100.000 and vert_dist is 9.000\n",
      "Time is 5.0, taus:  {'10': (0, 999)}\n",
      "Time is 6.0, r_hor_sq is 100.000 and vert_dist is 9.000\n",
      "Time is 6.0, taus:  {'10': (0, 999)}\n"
     ]
    },
    {
     "data": {
      "text/plain": [
       "{'BIG_NMAC_Rad': {'condition': <function __main__.ConflictDetector.gen_distance_condition.<locals>.check()>,\n",
       "  'conflict_start_time': [3],\n",
       "  'conflict_end_time': [],\n",
       "  'is_in_conflict': True},\n",
       " 'tau_Rad': {'condition': <function __main__.ConflictDetector.gen_tau_mod_condition.<locals>.check()>,\n",
       "  'conflict_start_time': [3],\n",
       "  'conflict_end_time': [],\n",
       "  'is_in_conflict': True}}"
      ]
     },
     "execution_count": 111,
     "metadata": {},
     "output_type": "execute_result"
    }
   ],
   "source": [
    "CD = ConflictDetector(1, 0)\n",
    "#CD.update_r_hor_sq_vert_dist(pos_c.copy(), pos_d.copy())\n",
    "CD.add_conflict_definition('BIG_NMAC_Rad', CD.gen_distance_condition(10, 10))\n",
    "# CD.add_conflict_definition('small_NMAC_Rad', CD.gen_distance_condition(10, 5))\n",
    "\n",
    "# CD.add_conflict_definition('xxx_tau', CD.gen_tau_mod_condition(tau_mod_min, tau_vert_min, vert_min, DMOD))\n",
    "CD.add_conflict_definition('tau_Rad', CD.gen_tau_mod_condition(25, 25, 10, 10))\n",
    "# CD.conflict_check(0)\n",
    "\n",
    "for idx in range(len(timelist)):\n",
    "    CD.update_r_hor_sq_vert_dist(alist[idx], blist[idx])\n",
    "    CD.update_taus(alist[idx], blist[idx], vel_list_1[idx], vel_list_2[idx])\n",
    "    CD.conflict_check(timelist[idx])\n",
    "    \n",
    "CD.conflict_definitions"
   ]
  },
  {
   "cell_type": "code",
   "execution_count": 112,
   "id": "90ce4af7",
   "metadata": {},
   "outputs": [
    {
     "data": {
      "text/plain": [
       "3"
      ]
     },
     "execution_count": 112,
     "metadata": {},
     "output_type": "execute_result"
    }
   ],
   "source": [
    "CD.get_earliest_conflict_start_time('tau_Rad')"
   ]
  },
  {
   "cell_type": "code",
   "execution_count": 113,
   "id": "0edf2417",
   "metadata": {},
   "outputs": [],
   "source": [
    "CD.get_latest_conflict_end_time('tau_Rad')"
   ]
  },
  {
   "cell_type": "code",
   "execution_count": 114,
   "id": "c8c90c25",
   "metadata": {},
   "outputs": [
    {
     "data": {
      "text/plain": [
       "True"
      ]
     },
     "execution_count": 114,
     "metadata": {},
     "output_type": "execute_result"
    }
   ],
   "source": [
    "CD.history_of_conflict('tau_Rad')"
   ]
  },
  {
   "cell_type": "code",
   "execution_count": 16,
   "id": "aa1415a9",
   "metadata": {},
   "outputs": [
    {
     "data": {
      "text/plain": [
       "(1, 2)"
      ]
     },
     "execution_count": 16,
     "metadata": {},
     "output_type": "execute_result"
    }
   ],
   "source": [
    "cat = 1, 2\n",
    "cat"
   ]
  },
  {
   "cell_type": "code",
   "execution_count": 92,
   "id": "082de029",
   "metadata": {},
   "outputs": [
    {
     "data": {
      "text/plain": [
       "True"
      ]
     },
     "execution_count": 92,
     "metadata": {},
     "output_type": "execute_result"
    }
   ],
   "source": [
    "((0 <= 11 < 25) | (11 <= 10))"
   ]
  },
  {
   "cell_type": "code",
   "execution_count": 1,
   "id": "2be93ee2",
   "metadata": {},
   "outputs": [
    {
     "data": {
      "text/plain": [
       "False"
      ]
     },
     "execution_count": 1,
     "metadata": {},
     "output_type": "execute_result"
    }
   ],
   "source": [
    "((0 <= 11 < 25) | 11 <= 10)"
   ]
  },
  {
   "cell_type": "code",
   "execution_count": 3,
   "id": "1eb18c85",
   "metadata": {},
   "outputs": [
    {
     "data": {
      "text/plain": [
       "11"
      ]
     },
     "execution_count": 3,
     "metadata": {},
     "output_type": "execute_result"
    }
   ],
   "source": [
    "True | 11"
   ]
  },
  {
   "cell_type": "code",
   "execution_count": 12,
   "id": "571d4dcf",
   "metadata": {
    "scrolled": true
   },
   "outputs": [
    {
     "name": "stdout",
     "output_type": "stream",
     "text": [
      "WC1a\n",
      "WC1b\n",
      "WC1c\n",
      "WC1d\n",
      "WC1e\n",
      "WC1f\n",
      "WC1g\n",
      "WC1h\n",
      "WC1i\n",
      "WC1j\n"
     ]
    }
   ],
   "source": [
    "for i in range(10):\n",
    "    print('WC1' + chr(97+i))"
   ]
  },
  {
   "cell_type": "code",
   "execution_count": 13,
   "id": "22fe9544",
   "metadata": {},
   "outputs": [
    {
     "data": {
      "text/html": [
       "<div>\n",
       "<style scoped>\n",
       "    .dataframe tbody tr th:only-of-type {\n",
       "        vertical-align: middle;\n",
       "    }\n",
       "\n",
       "    .dataframe tbody tr th {\n",
       "        vertical-align: top;\n",
       "    }\n",
       "\n",
       "    .dataframe thead th {\n",
       "        text-align: right;\n",
       "    }\n",
       "</style>\n",
       "<table border=\"1\" class=\"dataframe\">\n",
       "  <thead>\n",
       "    <tr style=\"text-align: right;\">\n",
       "      <th></th>\n",
       "      <th>Unnamed: 0</th>\n",
       "      <th>Run</th>\n",
       "      <th>GlobalPhysicsUpdateRate</th>\n",
       "      <th>GlobalSimStopTime</th>\n",
       "      <th>Cruise_Leg_Time</th>\n",
       "      <th>Num_Legs</th>\n",
       "      <th>WindUpdateRate</th>\n",
       "      <th>Wind_auto_x</th>\n",
       "      <th>Wind_auto_y</th>\n",
       "      <th>Wind_auto_z</th>\n",
       "      <th>...</th>\n",
       "      <th>AC2_Start_Time</th>\n",
       "      <th>AC2_PosUpdateRate</th>\n",
       "      <th>AC2_VelUpdateRate</th>\n",
       "      <th>AC2_AccelUpdateRate</th>\n",
       "      <th>AC2_AirSpdSensorUpdateRate</th>\n",
       "      <th>AC2_TrackingUnit_UpdateRate</th>\n",
       "      <th>AC2_TrackingUnit_Pos_Quant</th>\n",
       "      <th>AC2_TrackingUnit_Vel_Quant</th>\n",
       "      <th>AC2_TrackingUnit_Avail</th>\n",
       "      <th>AC2_Latency</th>\n",
       "    </tr>\n",
       "  </thead>\n",
       "  <tbody>\n",
       "    <tr>\n",
       "      <th>0</th>\n",
       "      <td>0</td>\n",
       "      <td>0</td>\n",
       "      <td>240</td>\n",
       "      <td>150</td>\n",
       "      <td>30</td>\n",
       "      <td>4</td>\n",
       "      <td>5</td>\n",
       "      <td>0.8</td>\n",
       "      <td>0</td>\n",
       "      <td>0</td>\n",
       "      <td>...</td>\n",
       "      <td>0</td>\n",
       "      <td>10</td>\n",
       "      <td>10</td>\n",
       "      <td>120</td>\n",
       "      <td>120</td>\n",
       "      <td>2</td>\n",
       "      <td>0</td>\n",
       "      <td>0</td>\n",
       "      <td>0.5</td>\n",
       "      <td>0.5</td>\n",
       "    </tr>\n",
       "  </tbody>\n",
       "</table>\n",
       "<p>1 rows × 82 columns</p>\n",
       "</div>"
      ],
      "text/plain": [
       "   Unnamed: 0  Run  GlobalPhysicsUpdateRate  GlobalSimStopTime  \\\n",
       "0           0    0                      240                150   \n",
       "\n",
       "   Cruise_Leg_Time  Num_Legs  WindUpdateRate  Wind_auto_x  Wind_auto_y  \\\n",
       "0               30         4               5          0.8            0   \n",
       "\n",
       "   Wind_auto_z  ...  AC2_Start_Time  AC2_PosUpdateRate  AC2_VelUpdateRate  \\\n",
       "0            0  ...               0                 10                 10   \n",
       "\n",
       "   AC2_AccelUpdateRate  AC2_AirSpdSensorUpdateRate  \\\n",
       "0                  120                         120   \n",
       "\n",
       "   AC2_TrackingUnit_UpdateRate  AC2_TrackingUnit_Pos_Quant  \\\n",
       "0                            2                           0   \n",
       "\n",
       "   AC2_TrackingUnit_Vel_Quant  AC2_TrackingUnit_Avail  AC2_Latency  \n",
       "0                           0                     0.5          0.5  \n",
       "\n",
       "[1 rows x 82 columns]"
      ]
     },
     "execution_count": 13,
     "metadata": {},
     "output_type": "execute_result"
    }
   ],
   "source": [
    "from MonteCarlo.TwoAircraftEncounter.ScenarioMP import get_param\n",
    "\n",
    "get_param()"
   ]
  },
  {
   "cell_type": "code",
   "execution_count": 1,
   "id": "1d795df4",
   "metadata": {},
   "outputs": [
    {
     "data": {
      "text/plain": [
       "array([7.49981947, 9.0940938 , 5.32205246, 4.00011685, 4.85797716,\n",
       "       1.103895  , 3.28036998, 5.54188869, 9.97101348, 5.08485765])"
      ]
     },
     "execution_count": 1,
     "metadata": {},
     "output_type": "execute_result"
    }
   ],
   "source": [
    "import numpy as np\n",
    "import pandas as pd\n",
    "\n",
    "np.random.uniform(0, 10, size=10)"
   ]
  },
  {
   "cell_type": "code",
   "execution_count": 6,
   "id": "b48d1458",
   "metadata": {},
   "outputs": [
    {
     "data": {
      "text/plain": [
       "array([10., 10., 10., 10., 10., 10., 10., 10., 10., 10.])"
      ]
     },
     "execution_count": 6,
     "metadata": {},
     "output_type": "execute_result"
    }
   ],
   "source": [
    "num_runs = 10\n",
    "np.ones(num_runs) * 10"
   ]
  },
  {
   "cell_type": "code",
   "execution_count": 8,
   "id": "70a83455",
   "metadata": {},
   "outputs": [
    {
     "data": {
      "text/plain": [
       "array([0., 0., 0., 0., 0., 0., 0., 0., 0., 0.])"
      ]
     },
     "execution_count": 8,
     "metadata": {},
     "output_type": "execute_result"
    }
   ],
   "source": [
    "AC1_HDG = 0 * np.ones(num_runs)\n",
    "AC1_HDG = AC1_HDG * np.pi/180\n",
    "AC1_HDG"
   ]
  },
  {
   "cell_type": "code",
   "execution_count": 9,
   "id": "e49dbd4c",
   "metadata": {},
   "outputs": [
    {
     "data": {
      "text/plain": [
       "array([-197.07921948, -216.6687173 , -206.6034694 , -228.69982147,\n",
       "       -230.06152997, -150.38629786, -154.51458799, -184.98654272,\n",
       "       -158.63893596, -177.47766156])"
      ]
     },
     "execution_count": 9,
     "metadata": {},
     "output_type": "execute_result"
    }
   ],
   "source": [
    "np.random.uniform(150, 250, size=num_runs) * -np.cos(AC1_HDG)"
   ]
  },
  {
   "cell_type": "code",
   "execution_count": 13,
   "id": "0b0cb84b",
   "metadata": {},
   "outputs": [
    {
     "data": {
      "text/plain": [
       "array([-12.43321044,  -4.37121187, -12.78089937, -21.02990156,\n",
       "         0.45048643,   2.82106992,  -0.02299513,  -6.83139152,\n",
       "         0.62048484, -11.13081397])"
      ]
     },
     "execution_count": 13,
     "metadata": {},
     "output_type": "execute_result"
    }
   ],
   "source": [
    "np.random.normal(0, 10, size=num_runs)"
   ]
  },
  {
   "cell_type": "code",
   "execution_count": 12,
   "id": "8f88ee59",
   "metadata": {},
   "outputs": [
    {
     "data": {
      "text/plain": [
       "(array([  4.,  20.,  68., 182., 283., 254., 127.,  50.,   9.,   3.]),\n",
       " array([-33.87969864, -26.78611661, -19.69253459, -12.59895257,\n",
       "         -5.50537054,   1.58821148,   8.68179351,  15.77537553,\n",
       "         22.86895755,  29.96253958,  37.0561216 ]),\n",
       " <BarContainer object of 10 artists>)"
      ]
     },
     "execution_count": 12,
     "metadata": {},
     "output_type": "execute_result"
    },
    {
     "data": {
      "image/png": "[encoded data removed]",
      "text/plain": [
       "<Figure size 432x288 with 1 Axes>"
      ]
     },
     "metadata": {
      "needs_background": "light"
     },
     "output_type": "display_data"
    }
   ],
   "source": [
    "import matplotlib.pyplot as plt\n",
    "\n",
    "fig, ax = plt.subplots()\n",
    "ax.hist(np.random.normal(0, 10, size=1000))"
   ]
  },
  {
   "cell_type": "code",
   "execution_count": 17,
   "id": "bcc2f86d",
   "metadata": {},
   "outputs": [
    {
     "data": {
      "text/plain": [
       "array([0, 1, 2, 3, 4, 5, 6, 7, 8, 9])"
      ]
     },
     "execution_count": 17,
     "metadata": {},
     "output_type": "execute_result"
    }
   ],
   "source": [
    "np.arange(0, num_runs)"
   ]
  },
  {
   "cell_type": "code",
   "execution_count": 15,
   "id": "593fb7fd",
   "metadata": {},
   "outputs": [
    {
     "data": {
      "text/plain": [
       "10"
      ]
     },
     "execution_count": 15,
     "metadata": {},
     "output_type": "execute_result"
    }
   ],
   "source": [
    "num_runs"
   ]
  },
  {
   "cell_type": "code",
   "execution_count": 18,
   "id": "20dfd4b0",
   "metadata": {},
   "outputs": [
    {
     "name": "stderr",
     "output_type": "stream",
     "text": [
      "<ipython-input-18-0befad8358c5>:1: RuntimeWarning: divide by zero encountered in log\n",
      "  np.log(np.arange(0, num_runs))\n"
     ]
    },
    {
     "data": {
      "text/plain": [
       "array([      -inf, 0.        , 0.69314718, 1.09861229, 1.38629436,\n",
       "       1.60943791, 1.79175947, 1.94591015, 2.07944154, 2.19722458])"
      ]
     },
     "execution_count": 18,
     "metadata": {},
     "output_type": "execute_result"
    }
   ],
   "source": [
    "np.log(np.arange(0, num_runs))"
   ]
  },
  {
   "cell_type": "code",
   "execution_count": 22,
   "id": "2d36438e",
   "metadata": {},
   "outputs": [
    {
     "data": {
      "text/plain": [
       "array([1.0000e+00, 2.7000e+00, 7.4000e+00, 2.0100e+01, 5.4600e+01,\n",
       "       1.4840e+02, 4.0340e+02, 1.0966e+03, 2.9810e+03, 8.1031e+03])"
      ]
     },
     "execution_count": 22,
     "metadata": {},
     "output_type": "execute_result"
    }
   ],
   "source": [
    "np.exp(np.arange(0, num_runs)).round(1)"
   ]
  },
  {
   "cell_type": "code",
   "execution_count": 21,
   "id": "f13367c2",
   "metadata": {},
   "outputs": [
    {
     "data": {
      "text/plain": [
       "True"
      ]
     },
     "execution_count": 21,
     "metadata": {},
     "output_type": "execute_result"
    }
   ],
   "source": [
    "isinstance(np.exp(np.arange(0, num_runs)), type(np.array([])))"
   ]
  },
  {
   "cell_type": "code",
   "execution_count": 29,
   "id": "21deedb5",
   "metadata": {},
   "outputs": [
    {
     "data": {
      "text/plain": [
       "9.3"
      ]
     },
     "execution_count": 29,
     "metadata": {},
     "output_type": "execute_result"
    }
   ],
   "source": [
    "def calc_diameter(mass):\n",
    "    \"\"\"Data for this function obtained from log-log plot of popular DJI quadrotors\"\"\"\n",
    "    if isinstance(mass, type(np.array([]))):\n",
    "        diameter = (np.random.uniform(0.8, 1.2, size=len(mass)) * np.exp((0.3878 * np.log(mass) + 2.1387))).round(1)\n",
    "    else:\n",
    "        diameter = round(np.random.uniform(0.8, 1.2) * np.exp((0.3878 * np.log(mass) + 2.1387)), 1)\n",
    "    return diameter\n",
    "\n",
    "calc_diameter(1.2)"
   ]
  },
  {
   "cell_type": "code",
   "execution_count": 30,
   "id": "bbc84e1e",
   "metadata": {},
   "outputs": [
    {
     "data": {
      "text/plain": [
       "array([1, 1])"
      ]
     },
     "execution_count": 30,
     "metadata": {},
     "output_type": "execute_result"
    }
   ],
   "source": [
    "abs(np.array([1, -1]))"
   ]
  },
  {
   "cell_type": "code",
   "execution_count": 32,
   "id": "468f4b14",
   "metadata": {},
   "outputs": [
    {
     "data": {
      "text/plain": [
       "array([0.        , 1.04719755, 0.68091031, 3.14159265])"
      ]
     },
     "execution_count": 32,
     "metadata": {},
     "output_type": "execute_result"
    }
   ],
   "source": [
    "np.arccos(np.array([1,0.5,0.777, -1]))"
   ]
  },
  {
   "cell_type": "code",
   "execution_count": 3,
   "id": "756b7a72",
   "metadata": {},
   "outputs": [
    {
     "data": {
      "text/plain": [
       "array([-1,  0,  0])"
      ]
     },
     "execution_count": 3,
     "metadata": {},
     "output_type": "execute_result"
    }
   ],
   "source": [
    "import numpy as np\n",
    "import pandas as pd\n",
    "\n",
    "np.cross(np.array([0,0,1]), np.array([0,1,0]))"
   ]
  },
  {
   "cell_type": "code",
   "execution_count": 15,
   "id": "183adaec",
   "metadata": {},
   "outputs": [
    {
     "name": "stdout",
     "output_type": "stream",
     "text": [
      "STD_Formula_1, r std: 3.529, set value: 3.5\n",
      "STD_Formula_2, r std: 1.728, set value: 3.5\n",
      "STD_x_val_1: 5.178, set value: 5.342\n",
      "STD_x_val_2: 2.675, set value: 2.671\n"
     ]
    }
   ],
   "source": [
    "runs = 100000\n",
    "\n",
    "x_auto = 0.994\n",
    "y_auto = 0.994\n",
    "\n",
    "\n",
    "GPS_Pos_Error_Hor_Std = 3.5 # (radial)\n",
    "GPS_Pos_Error_Hor_Std1 = (GPS_Pos_Error_Hor_Std)/np.sqrt(0.5*(4-np.pi)) # Check formula! \n",
    "GPS_Pos_Error_Hor_Std2 = (GPS_Pos_Error_Hor_Std/2)/np.sqrt(0.5*(4-np.pi)) # Pls chk formula before running!\n",
    "\n",
    "x1_err = np.random.uniform(0, GPS_Pos_Error_Hor_Std)\n",
    "y1_err = np.random.uniform(0, GPS_Pos_Error_Hor_Std)\n",
    "x2_err = np.random.uniform(0, GPS_Pos_Error_Hor_Std)\n",
    "y2_err = np.random.uniform(0, GPS_Pos_Error_Hor_Std)\n",
    "\n",
    "x1_err_l = []\n",
    "y1_err_l = []\n",
    "x2_err_l = []\n",
    "y2_err_l = []\n",
    "r1_err_l = []\n",
    "r2_err_l = []\n",
    "\n",
    "for i in range(runs):\n",
    "    x1_err = x_auto * x1_err + np.random.normal(0, GPS_Pos_Error_Hor_Std1 * np.sqrt(1 - x_auto**2))\n",
    "    x1_err_l.append(x1_err)\n",
    "    y1_err = y_auto * y1_err + np.random.normal(0, GPS_Pos_Error_Hor_Std1 * np.sqrt(1 - y_auto**2))\n",
    "    y1_err_l.append(y1_err)\n",
    "    r1_err_l.append(np.sqrt(x1_err**2 + y1_err**2))\n",
    "    x2_err = x_auto * x2_err + np.random.normal(0, GPS_Pos_Error_Hor_Std2 * np.sqrt(1 - x_auto**2))\n",
    "    x2_err_l.append(x2_err)\n",
    "    y2_err = y_auto * y2_err + np.random.normal(0, GPS_Pos_Error_Hor_Std2 * np.sqrt(1 - y_auto**2))\n",
    "    y2_err_l.append(y2_err)\n",
    "    r2_err_l.append(np.sqrt(x2_err**2 + y2_err**2))\n",
    "    \n",
    "print('STD_Formula_1, r std: %.3f, set value: %.1f'%(np.array(r1_err_l).std(), GPS_Pos_Error_Hor_Std))\n",
    "print('STD_Formula_2, r std: %.3f, set value: %.1f'%(np.array(r2_err_l).std(), GPS_Pos_Error_Hor_Std))\n",
    "print('STD_x_val_1: %.3f, set value: %.3f'%(np.array(x1_err_l).std(), GPS_Pos_Error_Hor_Std1))\n",
    "print('STD_x_val_2: %.3f, set value: %.3f'%(np.array(x2_err_l).std(), GPS_Pos_Error_Hor_Std2))"
   ]
  },
  {
   "cell_type": "code",
   "execution_count": null,
   "id": "1d2711ff",
   "metadata": {},
   "outputs": [],
   "source": []
  }
 ],
 "metadata": {
  "kernelspec": {
   "display_name": "Python 3",
   "language": "python",
   "name": "python3"
  },
  "language_info": {
   "codemirror_mode": {
    "name": "ipython",
    "version": 3
   },
   "file_extension": ".py",
   "mimetype": "text/x-python",
   "name": "python",
   "nbconvert_exporter": "python",
   "pygments_lexer": "ipython3",
   "version": "3.8.8"
  }
 },
 "nbformat": 4,
 "nbformat_minor": 5
}

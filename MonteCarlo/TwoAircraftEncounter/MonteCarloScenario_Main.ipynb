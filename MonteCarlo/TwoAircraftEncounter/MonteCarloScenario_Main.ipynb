{
 "cells": [
  {
   "cell_type": "markdown",
   "id": "5acb8274",
   "metadata": {},
   "source": [
    "# NOTE: If you are planning to use YAGMAIL for email alerts, please makes sure the relevant package has been installed/tested"
   ]
  },
  {
   "cell_type": "code",
   "execution_count": 1,
   "id": "d8bfe5c5",
   "metadata": {},
   "outputs": [
    {
     "name": "stdout",
     "output_type": "stream",
     "text": [
      "C:\\Users\\quekz\\PycharmProjects\\AAM_Sim\n"
     ]
    }
   ],
   "source": [
    "import numpy as np\n",
    "import pandas as pd\n",
    "import matplotlib.pyplot as plt\n",
    "import os\n",
    "\n",
    "from mpl_toolkits.mplot3d import Axes3D\n",
    "from matplotlib import animation\n",
    "\n",
    "if os.getcwd()[-7:] == 'AAM_Sim':\n",
    "    print(os.getcwd())\n",
    "else:\n",
    "    path_parent = os.path.dirname(os.getcwd())\n",
    "    os.chdir(path_parent)\n",
    "    path_parent = os.path.dirname(os.getcwd())\n",
    "    os.chdir(path_parent)\n",
    "    print(os.getcwd())\n",
    "\n",
    "from CrossPlatformDev import my_print, join_str\n",
    "\n",
    "import time\n",
    "import psutil\n",
    "\n",
    "from MonteCarlo.TwoAircraftEncounter.ScenarioMP import simulate_encounter"
   ]
  },
  {
   "cell_type": "markdown",
   "id": "a6c81e13",
   "metadata": {},
   "source": [
    "### Turn off warnings in Linux (AWS)... tqdm seems to have issues displaying correctly if there are many warnings. "
   ]
  },
  {
   "cell_type": "code",
   "execution_count": 2,
   "id": "8e64adb8",
   "metadata": {},
   "outputs": [],
   "source": [
    "import warnings\n",
    "import platform\n",
    "if platform.system() == 'Linux':\n",
    "    warnings.filterwarnings('ignore') # <---- hides warnings, makes tqdm work better."
   ]
  },
  {
   "cell_type": "code",
   "execution_count": 3,
   "id": "4b300bed",
   "metadata": {},
   "outputs": [
    {
     "data": {
      "application/vnd.jupyter.widget-view+json": {
       "model_id": "675878dc24e148138379f159df4a0483",
       "version_major": 2,
       "version_minor": 0
      },
      "text/plain": [
       "  0%|          | 0/3 [00:00<?, ?it/s]"
      ]
     },
     "metadata": {},
     "output_type": "display_data"
    },
    {
     "name": "stdout",
     "output_type": "stream",
     "text": [
      "Took 59.104 seconds, simulated flight time is 449.192 seconds, total speedup is 7.600 times\n"
     ]
    },
    {
     "data": {
      "text/html": [
       "<div>\n",
       "<style scoped>\n",
       "    .dataframe tbody tr th:only-of-type {\n",
       "        vertical-align: middle;\n",
       "    }\n",
       "\n",
       "    .dataframe tbody tr th {\n",
       "        vertical-align: top;\n",
       "    }\n",
       "\n",
       "    .dataframe thead th {\n",
       "        text-align: right;\n",
       "    }\n",
       "</style>\n",
       "<table border=\"1\" class=\"dataframe\">\n",
       "  <thead>\n",
       "    <tr style=\"text-align: right;\">\n",
       "      <th></th>\n",
       "      <th>Run</th>\n",
       "      <th>AC1_NSE_Radial_Error_Mean</th>\n",
       "      <th>AC1_NSE_Radial_Error_Std</th>\n",
       "      <th>AC1_NSE_Mean_x</th>\n",
       "      <th>AC1_NSE_Mean_y</th>\n",
       "      <th>AC1_NSE_Mean_z</th>\n",
       "      <th>AC1_NSE_Std_x</th>\n",
       "      <th>AC1_NSE_Std_y</th>\n",
       "      <th>AC1_NSE_Std_z</th>\n",
       "      <th>AC2_NSE_Radial_Error_Mean</th>\n",
       "      <th>...</th>\n",
       "      <th>WC1i_Rel_Hor_Dist</th>\n",
       "      <th>WC1i_Rel_Vert_Dist</th>\n",
       "      <th>WC1j_Start_Time</th>\n",
       "      <th>WC1j_End_Time</th>\n",
       "      <th>WC1j_Detected</th>\n",
       "      <th>WC1j_Rel_Hdg_(Actual_Rad)</th>\n",
       "      <th>WC1j_Rel_Hdg_(Desired_Track_Rad)</th>\n",
       "      <th>WC1j_Rel_Vel_Hdg_(Actual_Rad)</th>\n",
       "      <th>WC1j_Rel_Hor_Dist</th>\n",
       "      <th>WC1j_Rel_Vert_Dist</th>\n",
       "    </tr>\n",
       "  </thead>\n",
       "  <tbody>\n",
       "    <tr>\n",
       "      <th>0</th>\n",
       "      <td>0</td>\n",
       "      <td>4.615267</td>\n",
       "      <td>2.332127</td>\n",
       "      <td>-1.867186</td>\n",
       "      <td>-3.017261</td>\n",
       "      <td>0.993628</td>\n",
       "      <td>1.715641</td>\n",
       "      <td>3.347467</td>\n",
       "      <td>1.073478</td>\n",
       "      <td>3.413986</td>\n",
       "      <td>...</td>\n",
       "      <td>NaN</td>\n",
       "      <td>NaN</td>\n",
       "      <td>NaN</td>\n",
       "      <td>NaN</td>\n",
       "      <td>0</td>\n",
       "      <td>NaN</td>\n",
       "      <td>NaN</td>\n",
       "      <td>NaN</td>\n",
       "      <td>NaN</td>\n",
       "      <td>NaN</td>\n",
       "    </tr>\n",
       "    <tr>\n",
       "      <th>0</th>\n",
       "      <td>1</td>\n",
       "      <td>4.379426</td>\n",
       "      <td>1.655950</td>\n",
       "      <td>2.395116</td>\n",
       "      <td>-1.677398</td>\n",
       "      <td>0.483768</td>\n",
       "      <td>2.013802</td>\n",
       "      <td>3.052171</td>\n",
       "      <td>0.770733</td>\n",
       "      <td>3.817981</td>\n",
       "      <td>...</td>\n",
       "      <td>44.985443</td>\n",
       "      <td>-2.000372</td>\n",
       "      <td>35.970833</td>\n",
       "      <td>47.166667</td>\n",
       "      <td>1</td>\n",
       "      <td>1.927522</td>\n",
       "      <td>1.959555</td>\n",
       "      <td>0.536500</td>\n",
       "      <td>49.975053</td>\n",
       "      <td>-1.783872</td>\n",
       "    </tr>\n",
       "    <tr>\n",
       "      <th>0</th>\n",
       "      <td>2</td>\n",
       "      <td>5.921767</td>\n",
       "      <td>3.431842</td>\n",
       "      <td>2.704630</td>\n",
       "      <td>-2.283593</td>\n",
       "      <td>1.041713</td>\n",
       "      <td>3.563144</td>\n",
       "      <td>4.649555</td>\n",
       "      <td>1.022194</td>\n",
       "      <td>4.524243</td>\n",
       "      <td>...</td>\n",
       "      <td>NaN</td>\n",
       "      <td>NaN</td>\n",
       "      <td>61.104167</td>\n",
       "      <td>64.345833</td>\n",
       "      <td>1</td>\n",
       "      <td>2.023196</td>\n",
       "      <td>2.147187</td>\n",
       "      <td>0.039923</td>\n",
       "      <td>49.998612</td>\n",
       "      <td>3.282678</td>\n",
       "    </tr>\n",
       "  </tbody>\n",
       "</table>\n",
       "<p>3 rows × 134 columns</p>\n",
       "</div>"
      ],
      "text/plain": [
       "   Run  AC1_NSE_Radial_Error_Mean  AC1_NSE_Radial_Error_Std  AC1_NSE_Mean_x  \\\n",
       "0    0                   4.615267                  2.332127       -1.867186   \n",
       "0    1                   4.379426                  1.655950        2.395116   \n",
       "0    2                   5.921767                  3.431842        2.704630   \n",
       "\n",
       "   AC1_NSE_Mean_y  AC1_NSE_Mean_z  AC1_NSE_Std_x  AC1_NSE_Std_y  \\\n",
       "0       -3.017261        0.993628       1.715641       3.347467   \n",
       "0       -1.677398        0.483768       2.013802       3.052171   \n",
       "0       -2.283593        1.041713       3.563144       4.649555   \n",
       "\n",
       "   AC1_NSE_Std_z  AC2_NSE_Radial_Error_Mean  ...  WC1i_Rel_Hor_Dist  \\\n",
       "0       1.073478                   3.413986  ...                NaN   \n",
       "0       0.770733                   3.817981  ...          44.985443   \n",
       "0       1.022194                   4.524243  ...                NaN   \n",
       "\n",
       "   WC1i_Rel_Vert_Dist  WC1j_Start_Time  WC1j_End_Time  WC1j_Detected  \\\n",
       "0                 NaN              NaN            NaN              0   \n",
       "0           -2.000372        35.970833      47.166667              1   \n",
       "0                 NaN        61.104167      64.345833              1   \n",
       "\n",
       "   WC1j_Rel_Hdg_(Actual_Rad)  WC1j_Rel_Hdg_(Desired_Track_Rad)  \\\n",
       "0                        NaN                               NaN   \n",
       "0                   1.927522                          1.959555   \n",
       "0                   2.023196                          2.147187   \n",
       "\n",
       "   WC1j_Rel_Vel_Hdg_(Actual_Rad)  WC1j_Rel_Hor_Dist  WC1j_Rel_Vert_Dist  \n",
       "0                            NaN                NaN                 NaN  \n",
       "0                       0.536500          49.975053           -1.783872  \n",
       "0                       0.039923          49.998612            3.282678  \n",
       "\n",
       "[3 rows x 134 columns]"
      ]
     },
     "execution_count": 3,
     "metadata": {},
     "output_type": "execute_result"
    }
   ],
   "source": [
    "from tqdm.notebook import tqdm\n",
    "import multiprocessing as mp\n",
    "\n",
    "Init_Param_Path = join_str(os.getcwd(), 'MonteCarlo', 'TwoAircraftEncounter', 'Init_Param.csv')\n",
    "\n",
    "data = pd.read_csv(Init_Param_Path)\n",
    "\n",
    "data = data['Run'].unique()\n",
    "# data = data[0:3]\n",
    "\n",
    "if __name__ == '__main__':\n",
    "    start = time.time()\n",
    "    # with mp.Pool(processes = psutil.cpu_count(logical=True)) as pool:\n",
    "    with mp.Pool(processes = 3) as pool:\n",
    "        results = list(tqdm(pool.imap(simulate_encounter, data), total = len(data)))\n",
    "        pool.close()\n",
    "        pool.join()\n",
    "        results = pd.concat(results)\n",
    "        #joined_df = df.set_index('Flight no.').join(results.set_index('Flight no.'), on = 'Flight no.')\n",
    "        end = time.time()\n",
    "        \n",
    "compute_time = end-start\n",
    "simulated_flight_time_s = results['Total_Flight_Time'].sum()\n",
    "speedup = simulated_flight_time_s/compute_time\n",
    "print('Took %.3f seconds, simulated flight time is %.3f seconds, total speedup is %.3f times'%(end-start, \n",
    "                                                                                               simulated_flight_time_s, \n",
    "                                                                                               speedup))\n",
    "\n",
    "results"
   ]
  },
  {
   "cell_type": "code",
   "execution_count": 4,
   "id": "8352e790",
   "metadata": {},
   "outputs": [
    {
     "data": {
      "text/plain": [
       "Index(['Run', 'AC1_NSE_Radial_Error_Mean', 'AC1_NSE_Radial_Error_Std',\n",
       "       'AC1_NSE_Mean_x', 'AC1_NSE_Mean_y', 'AC1_NSE_Mean_z', 'AC1_NSE_Std_x',\n",
       "       'AC1_NSE_Std_y', 'AC1_NSE_Std_z', 'AC2_NSE_Radial_Error_Mean',\n",
       "       ...\n",
       "       'WC1i_Rel_Hor_Dist', 'WC1i_Rel_Vert_Dist', 'WC1j_Start_Time',\n",
       "       'WC1j_End_Time', 'WC1j_Detected', 'WC1j_Rel_Hdg_(Actual_Rad)',\n",
       "       'WC1j_Rel_Hdg_(Desired_Track_Rad)', 'WC1j_Rel_Vel_Hdg_(Actual_Rad)',\n",
       "       'WC1j_Rel_Hor_Dist', 'WC1j_Rel_Vert_Dist'],\n",
       "      dtype='object', length=134)"
      ]
     },
     "execution_count": 4,
     "metadata": {},
     "output_type": "execute_result"
    }
   ],
   "source": [
    "results.columns"
   ]
  },
  {
   "cell_type": "code",
   "execution_count": 5,
   "id": "55575e56",
   "metadata": {},
   "outputs": [
    {
     "data": {
      "image/png": "[encoded data removed]",
      "text/plain": [
       "<Figure size 1152x360 with 4 Axes>"
      ]
     },
     "metadata": {
      "needs_background": "light"
     },
     "output_type": "display_data"
    }
   ],
   "source": [
    "fig, axs = plt.subplots(ncols=4, figsize=(16,5))\n",
    "\n",
    "axs[0].scatter(results['Run'], results['AC1_NSE_Radial_Error_Std'], label='AC1', color='b', alpha=0.5)\n",
    "axs[0].scatter(results['Run'], results['AC2_NSE_Radial_Error_Std'], label='AC2', color='orange', alpha=0.5)\n",
    "axs[0].set_title('Radial NSE STD')\n",
    "axs[0].legend()\n",
    "\n",
    "axs[1].scatter(results['Run'], results['AC1_NSE_Std_x'], label='AC1', color='b', alpha=0.5)\n",
    "axs[1].scatter(results['Run'], results['AC2_NSE_Std_x'], label='AC2', color='orange', alpha=0.5)\n",
    "axs[1].set_title('NSE STD - X')\n",
    "axs[1].legend()\n",
    "\n",
    "axs[2].scatter(results['Run'], results['AC1_NSE_Std_y'], label='AC1', color='b', alpha=0.5)\n",
    "axs[2].scatter(results['Run'], results['AC2_NSE_Std_y'], label='AC2', color='orange', alpha=0.5)\n",
    "axs[2].set_title('NSE STD - Y')\n",
    "axs[2].legend()\n",
    "\n",
    "axs[3].scatter(results['Run'], results['AC1_NSE_Std_z'], label='AC1', color='b', alpha=0.5)\n",
    "axs[3].scatter(results['Run'], results['AC2_NSE_Std_z'], label='AC2', color='orange', alpha=0.5)\n",
    "axs[3].set_title('NSE STD - Z')\n",
    "axs[3].legend()\n",
    "\n",
    "plt.show()"
   ]
  },
  {
   "cell_type": "code",
   "execution_count": 6,
   "id": "6cf0e0dc",
   "metadata": {},
   "outputs": [
    {
     "data": {
      "image/png": "[encoded data removed]",
      "text/plain": [
       "<Figure size 1152x360 with 2 Axes>"
      ]
     },
     "metadata": {
      "needs_background": "light"
     },
     "output_type": "display_data"
    }
   ],
   "source": [
    "fig, axs = plt.subplots(ncols=2, figsize=(16,5))\n",
    "\n",
    "axs[0].hist(results['AC1_Dist_to_Last_WPT'], color='b', alpha=0.5, label = 'AC1')\n",
    "axs[0].hist(results['AC2_Dist_to_Last_WPT'], color='orange', alpha=0.5, label = 'AC2')\n",
    "axs[0].set_title('Distance to Last Wpt')\n",
    "axs[0].legend()\n",
    "\n",
    "axs[1].hist(results['AC1_EndState_Time'], color='b', alpha=0.5, label = 'AC1')\n",
    "axs[1].hist(results['AC2_EndState_Time'], color='orange', alpha=0.5, label = 'AC2')\n",
    "axs[1].set_title('Flight Time')\n",
    "axs[1].legend()\n",
    "\n",
    "plt.show()"
   ]
  },
  {
   "cell_type": "code",
   "execution_count": 7,
   "id": "811b7490",
   "metadata": {},
   "outputs": [],
   "source": [
    "Results_Path = join_str(os.getcwd(), 'MonteCarlo', 'TwoAircraftEncounter', 'Results.csv')\n",
    "\n",
    "results.to_csv(Results_Path)"
   ]
  },
  {
   "cell_type": "code",
   "execution_count": 8,
   "id": "48baceb8",
   "metadata": {},
   "outputs": [],
   "source": [
    "import smtplib, ssl\n",
    "\n",
    "email_address = 'tmuas2022@gmail.com'     # add email address here\n",
    "Subject = 'Subject: Monte Carlo Results \\n\\n'\n",
    "content = ' Dear Sith Lord, \\n Your Simulation results beckon.\\n\\n ' \n",
    "footer = 'Your Droid Army (AWS)'    # add test footer \n",
    "passcode = 'zupmvqlgtwkjyjxl'        # add passcode here\n",
    "conn = smtplib.SMTP_SSL('smtp.gmail.com', 465) \n",
    "conn.ehlo()\n",
    "conn.login(email_address, passcode)\n",
    "conn.sendmail(email_address,\n",
    "              'zhihao.quek16@sps.nus.edu.sg',\n",
    "              Subject + content + footer)\n",
    "conn.quit()"
   ]
  },
  {
   "cell_type": "code",
   "execution_count": null,
   "id": "4834c4e3",
   "metadata": {},
   "outputs": [],
   "source": []
  }
 ],
 "metadata": {
  "kernelspec": {
   "display_name": "Python 3 (ipykernel)",
   "language": "python",
   "name": "python3"
  },
  "language_info": {
   "codemirror_mode": {
    "name": "ipython",
    "version": 3
   },
   "file_extension": ".py",
   "mimetype": "text/x-python",
   "name": "python",
   "nbconvert_exporter": "python",
   "pygments_lexer": "ipython3",
   "version": "3.9.7"
  }
 },
 "nbformat": 4,
 "nbformat_minor": 5
}

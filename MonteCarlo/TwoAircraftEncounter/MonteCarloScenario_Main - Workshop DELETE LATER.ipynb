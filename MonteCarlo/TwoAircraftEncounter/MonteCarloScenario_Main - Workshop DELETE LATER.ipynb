{
 "cells": [
  {
   "cell_type": "markdown",
   "id": "5acb8274",
   "metadata": {},
   "source": [
    "# NOTE: If you are planning to use YAGMAIL for email alerts, please makes sure the relevant package has been installed/tested"
   ]
  },
  {
   "cell_type": "code",
   "execution_count": 1,
   "id": "d8bfe5c5",
   "metadata": {},
   "outputs": [
    {
     "name": "stdout",
     "output_type": "stream",
     "text": [
      "C:\\Users\\quekz\\PycharmProjects\\AAM_Sim\n"
     ]
    }
   ],
   "source": [
    "import numpy as np\n",
    "import pandas as pd\n",
    "import matplotlib.pyplot as plt\n",
    "import os\n",
    "\n",
    "from mpl_toolkits.mplot3d import Axes3D\n",
    "from matplotlib import animation\n",
    "\n",
    "if os.getcwd()[-7:] == 'AAM_Sim':\n",
    "    print(os.getcwd())\n",
    "else:\n",
    "    path_parent = os.path.dirname(os.getcwd())\n",
    "    os.chdir(path_parent)\n",
    "    path_parent = os.path.dirname(os.getcwd())\n",
    "    os.chdir(path_parent)\n",
    "    print(os.getcwd())\n",
    "\n",
    "from CrossPlatformDev import my_print, join_str\n",
    "\n",
    "import time\n",
    "import psutil\n",
    "\n",
    "from MonteCarlo.TwoAircraftEncounter.ScenarioMP import simulate_encounter"
   ]
  },
  {
   "cell_type": "markdown",
   "id": "a6c81e13",
   "metadata": {},
   "source": [
    "### Turn off warnings in Linux (AWS)... tqdm seems to have issues displaying correctly if there are many warnings. "
   ]
  },
  {
   "cell_type": "code",
   "execution_count": 2,
   "id": "8e64adb8",
   "metadata": {},
   "outputs": [],
   "source": [
    "import warnings\n",
    "import platform\n",
    "if platform.system() == 'Linux':\n",
    "    warnings.filterwarnings('ignore') # <---- hides warnings, makes tqdm work better."
   ]
  },
  {
   "cell_type": "code",
   "execution_count": 3,
   "id": "4b300bed",
   "metadata": {},
   "outputs": [
    {
     "data": {
      "application/vnd.jupyter.widget-view+json": {
       "model_id": "76f8e11fe50f415e9cacaf19b64250c2",
       "version_major": 2,
       "version_minor": 0
      },
      "text/plain": [
       "  0%|          | 0/5 [00:00<?, ?it/s]"
      ]
     },
     "metadata": {},
     "output_type": "display_data"
    },
    {
     "name": "stdout",
     "output_type": "stream",
     "text": [
      "Took 323.698 seconds, simulated flight time is 750.408 seconds, total speedup is 2.318 times\n"
     ]
    },
    {
     "data": {
      "text/html": [
       "<div>\n",
       "<style scoped>\n",
       "    .dataframe tbody tr th:only-of-type {\n",
       "        vertical-align: middle;\n",
       "    }\n",
       "\n",
       "    .dataframe tbody tr th {\n",
       "        vertical-align: top;\n",
       "    }\n",
       "\n",
       "    .dataframe thead th {\n",
       "        text-align: right;\n",
       "    }\n",
       "</style>\n",
       "<table border=\"1\" class=\"dataframe\">\n",
       "  <thead>\n",
       "    <tr style=\"text-align: right;\">\n",
       "      <th></th>\n",
       "      <th>Run</th>\n",
       "      <th>AC1_NSE_Radial_Error_Mean</th>\n",
       "      <th>AC1_NSE_Radial_Error_Std</th>\n",
       "      <th>AC1_NSE_Mean_x</th>\n",
       "      <th>AC1_NSE_Mean_y</th>\n",
       "      <th>AC1_NSE_Mean_z</th>\n",
       "      <th>AC1_NSE_Std_x</th>\n",
       "      <th>AC1_NSE_Std_y</th>\n",
       "      <th>AC1_NSE_Std_z</th>\n",
       "      <th>AC2_NSE_Radial_Error_Mean</th>\n",
       "      <th>...</th>\n",
       "      <th>WC3d_Rel_Hor_Dist</th>\n",
       "      <th>WC3d_Rel_Vert_Dist</th>\n",
       "      <th>WC3e_Start_Time</th>\n",
       "      <th>WC3e_End_Time</th>\n",
       "      <th>WC3e_Detected</th>\n",
       "      <th>WC3e_Rel_Hdg_(Actual_Rad)</th>\n",
       "      <th>WC3e_Rel_Hdg_(Desired_Track_Rad)</th>\n",
       "      <th>WC3e_Rel_Vel_Hdg_(Actual_Rad)</th>\n",
       "      <th>WC3e_Rel_Hor_Dist</th>\n",
       "      <th>WC3e_Rel_Vert_Dist</th>\n",
       "    </tr>\n",
       "  </thead>\n",
       "  <tbody>\n",
       "    <tr>\n",
       "      <th>0</th>\n",
       "      <td>0</td>\n",
       "      <td>5.242277</td>\n",
       "      <td>2.334219</td>\n",
       "      <td>0.816360</td>\n",
       "      <td>2.711717</td>\n",
       "      <td>2.810604</td>\n",
       "      <td>3.444813</td>\n",
       "      <td>3.611531</td>\n",
       "      <td>2.283829</td>\n",
       "      <td>6.668753</td>\n",
       "      <td>...</td>\n",
       "      <td>323.222586</td>\n",
       "      <td>-4.291610</td>\n",
       "      <td>1.316667</td>\n",
       "      <td>27.637500</td>\n",
       "      <td>1</td>\n",
       "      <td>0.753850</td>\n",
       "      <td>0.557221</td>\n",
       "      <td>3.008762</td>\n",
       "      <td>324.492881</td>\n",
       "      <td>-3.897801</td>\n",
       "    </tr>\n",
       "    <tr>\n",
       "      <th>0</th>\n",
       "      <td>1</td>\n",
       "      <td>6.302210</td>\n",
       "      <td>2.086042</td>\n",
       "      <td>-3.061283</td>\n",
       "      <td>1.923337</td>\n",
       "      <td>0.441855</td>\n",
       "      <td>3.652885</td>\n",
       "      <td>4.201777</td>\n",
       "      <td>2.326090</td>\n",
       "      <td>6.116773</td>\n",
       "      <td>...</td>\n",
       "      <td>414.341028</td>\n",
       "      <td>-0.910492</td>\n",
       "      <td>1.741667</td>\n",
       "      <td>30.650000</td>\n",
       "      <td>1</td>\n",
       "      <td>0.443462</td>\n",
       "      <td>0.053001</td>\n",
       "      <td>2.405345</td>\n",
       "      <td>417.599157</td>\n",
       "      <td>-1.114835</td>\n",
       "    </tr>\n",
       "    <tr>\n",
       "      <th>0</th>\n",
       "      <td>2</td>\n",
       "      <td>7.978469</td>\n",
       "      <td>2.952421</td>\n",
       "      <td>0.693958</td>\n",
       "      <td>4.015823</td>\n",
       "      <td>0.472551</td>\n",
       "      <td>6.109860</td>\n",
       "      <td>4.293422</td>\n",
       "      <td>2.869520</td>\n",
       "      <td>7.242859</td>\n",
       "      <td>...</td>\n",
       "      <td>NaN</td>\n",
       "      <td>NaN</td>\n",
       "      <td>NaN</td>\n",
       "      <td>NaN</td>\n",
       "      <td>0</td>\n",
       "      <td>NaN</td>\n",
       "      <td>NaN</td>\n",
       "      <td>NaN</td>\n",
       "      <td>NaN</td>\n",
       "      <td>NaN</td>\n",
       "    </tr>\n",
       "    <tr>\n",
       "      <th>0</th>\n",
       "      <td>3</td>\n",
       "      <td>5.234949</td>\n",
       "      <td>3.012373</td>\n",
       "      <td>-2.782804</td>\n",
       "      <td>-2.990652</td>\n",
       "      <td>1.039609</td>\n",
       "      <td>2.776155</td>\n",
       "      <td>3.476139</td>\n",
       "      <td>3.271865</td>\n",
       "      <td>6.173447</td>\n",
       "      <td>...</td>\n",
       "      <td>107.806778</td>\n",
       "      <td>-3.702818</td>\n",
       "      <td>1.491667</td>\n",
       "      <td>14.995833</td>\n",
       "      <td>1</td>\n",
       "      <td>1.721182</td>\n",
       "      <td>1.595769</td>\n",
       "      <td>0.279122</td>\n",
       "      <td>107.950877</td>\n",
       "      <td>-3.544543</td>\n",
       "    </tr>\n",
       "    <tr>\n",
       "      <th>0</th>\n",
       "      <td>4</td>\n",
       "      <td>5.893459</td>\n",
       "      <td>2.883419</td>\n",
       "      <td>2.813165</td>\n",
       "      <td>2.998022</td>\n",
       "      <td>-0.222612</td>\n",
       "      <td>3.484384</td>\n",
       "      <td>3.742130</td>\n",
       "      <td>2.991557</td>\n",
       "      <td>6.195614</td>\n",
       "      <td>...</td>\n",
       "      <td>342.476678</td>\n",
       "      <td>-0.007096</td>\n",
       "      <td>0.891667</td>\n",
       "      <td>13.625000</td>\n",
       "      <td>1</td>\n",
       "      <td>0.600559</td>\n",
       "      <td>0.184995</td>\n",
       "      <td>2.552500</td>\n",
       "      <td>343.395956</td>\n",
       "      <td>-0.032728</td>\n",
       "    </tr>\n",
       "  </tbody>\n",
       "</table>\n",
       "<p>5 rows × 246 columns</p>\n",
       "</div>"
      ],
      "text/plain": [
       "   Run  AC1_NSE_Radial_Error_Mean  AC1_NSE_Radial_Error_Std  AC1_NSE_Mean_x  \\\n",
       "0    0                   5.242277                  2.334219        0.816360   \n",
       "0    1                   6.302210                  2.086042       -3.061283   \n",
       "0    2                   7.978469                  2.952421        0.693958   \n",
       "0    3                   5.234949                  3.012373       -2.782804   \n",
       "0    4                   5.893459                  2.883419        2.813165   \n",
       "\n",
       "   AC1_NSE_Mean_y  AC1_NSE_Mean_z  AC1_NSE_Std_x  AC1_NSE_Std_y  \\\n",
       "0        2.711717        2.810604       3.444813       3.611531   \n",
       "0        1.923337        0.441855       3.652885       4.201777   \n",
       "0        4.015823        0.472551       6.109860       4.293422   \n",
       "0       -2.990652        1.039609       2.776155       3.476139   \n",
       "0        2.998022       -0.222612       3.484384       3.742130   \n",
       "\n",
       "   AC1_NSE_Std_z  AC2_NSE_Radial_Error_Mean  ...  WC3d_Rel_Hor_Dist  \\\n",
       "0       2.283829                   6.668753  ...         323.222586   \n",
       "0       2.326090                   6.116773  ...         414.341028   \n",
       "0       2.869520                   7.242859  ...                NaN   \n",
       "0       3.271865                   6.173447  ...         107.806778   \n",
       "0       2.991557                   6.195614  ...         342.476678   \n",
       "\n",
       "   WC3d_Rel_Vert_Dist  WC3e_Start_Time  WC3e_End_Time  WC3e_Detected  \\\n",
       "0           -4.291610         1.316667      27.637500              1   \n",
       "0           -0.910492         1.741667      30.650000              1   \n",
       "0                 NaN              NaN            NaN              0   \n",
       "0           -3.702818         1.491667      14.995833              1   \n",
       "0           -0.007096         0.891667      13.625000              1   \n",
       "\n",
       "   WC3e_Rel_Hdg_(Actual_Rad)  WC3e_Rel_Hdg_(Desired_Track_Rad)  \\\n",
       "0                   0.753850                          0.557221   \n",
       "0                   0.443462                          0.053001   \n",
       "0                        NaN                               NaN   \n",
       "0                   1.721182                          1.595769   \n",
       "0                   0.600559                          0.184995   \n",
       "\n",
       "   WC3e_Rel_Vel_Hdg_(Actual_Rad)  WC3e_Rel_Hor_Dist  WC3e_Rel_Vert_Dist  \n",
       "0                       3.008762         324.492881           -3.897801  \n",
       "0                       2.405345         417.599157           -1.114835  \n",
       "0                            NaN                NaN                 NaN  \n",
       "0                       0.279122         107.950877           -3.544543  \n",
       "0                       2.552500         343.395956           -0.032728  \n",
       "\n",
       "[5 rows x 246 columns]"
      ]
     },
     "execution_count": 3,
     "metadata": {},
     "output_type": "execute_result"
    }
   ],
   "source": [
    "import multiprocessing as mp\n",
    "from tqdm.notebook import tqdm\n",
    "import psutil\n",
    "from MonteCarlo.TwoAircraftEncounter.ScenarioMP import simulate_encounter\n",
    "\n",
    "Init_Param_Path = join_str(os.getcwd(), 'MonteCarlo', 'TwoAircraftEncounter', 'Init_Param.csv')\n",
    "data = pd.read_csv(Init_Param_Path)\n",
    "\n",
    "data = data['Run'].unique()[0:5]  # <--- Returns a list (technically, in this case it's a pd.Series instance)\n",
    "\n",
    "if __name__ == '__main__':\n",
    "    start = time.time()\n",
    "    with mp.Pool(processes = 2) as pool:\n",
    "    # with mp.Pool(processes = psutil.cpu_count(logical=True)) as pool:\n",
    "        results = list(tqdm(pool.imap(simulate_encounter, data), total = len(data)))\n",
    "        pool.close()\n",
    "        pool.join()\n",
    "        results = pd.concat(results)\n",
    "        end = time.time()\n",
    "        \n",
    "compute_time = end-start\n",
    "simulated_flight_time_s = results['Total_Flight_Time'].sum()\n",
    "speedup = simulated_flight_time_s/compute_time\n",
    "print('Took %.3f seconds, simulated flight time is %.3f seconds, total speedup is %.3f times'%(end-start, \n",
    "                                                                                               simulated_flight_time_s, \n",
    "                                                                                               speedup))\n",
    "\n",
    "results"
   ]
  },
  {
   "cell_type": "code",
   "execution_count": 4,
   "id": "8352e790",
   "metadata": {},
   "outputs": [
    {
     "data": {
      "text/plain": [
       "Index(['Run', 'AC1_NSE_Radial_Error_Mean', 'AC1_NSE_Radial_Error_Std',\n",
       "       'AC1_NSE_Mean_x', 'AC1_NSE_Mean_y', 'AC1_NSE_Mean_z', 'AC1_NSE_Std_x',\n",
       "       'AC1_NSE_Std_y', 'AC1_NSE_Std_z', 'AC2_NSE_Radial_Error_Mean',\n",
       "       ...\n",
       "       'WC3d_Rel_Hor_Dist', 'WC3d_Rel_Vert_Dist', 'WC3e_Start_Time',\n",
       "       'WC3e_End_Time', 'WC3e_Detected', 'WC3e_Rel_Hdg_(Actual_Rad)',\n",
       "       'WC3e_Rel_Hdg_(Desired_Track_Rad)', 'WC3e_Rel_Vel_Hdg_(Actual_Rad)',\n",
       "       'WC3e_Rel_Hor_Dist', 'WC3e_Rel_Vert_Dist'],\n",
       "      dtype='object', length=246)"
      ]
     },
     "execution_count": 4,
     "metadata": {},
     "output_type": "execute_result"
    }
   ],
   "source": [
    "results.columns"
   ]
  },
  {
   "cell_type": "code",
   "execution_count": 5,
   "id": "55575e56",
   "metadata": {},
   "outputs": [
    {
     "data": {
      "image/png": "[encoded data removed]",
      "text/plain": [
       "<Figure size 1152x360 with 4 Axes>"
      ]
     },
     "metadata": {
      "needs_background": "light"
     },
     "output_type": "display_data"
    }
   ],
   "source": [
    "fig, axs = plt.subplots(ncols=4, figsize=(16,5))\n",
    "\n",
    "axs[0].scatter(results['Run'], results['AC1_NSE_Radial_Error_Std'], label='AC1', color='b', alpha=0.5)\n",
    "axs[0].scatter(results['Run'], results['AC2_NSE_Radial_Error_Std'], label='AC2', color='orange', alpha=0.5)\n",
    "axs[0].set_title('Radial NSE STD')\n",
    "axs[0].legend()\n",
    "\n",
    "axs[1].scatter(results['Run'], results['AC1_NSE_Std_x'], label='AC1', color='b', alpha=0.5)\n",
    "axs[1].scatter(results['Run'], results['AC2_NSE_Std_x'], label='AC2', color='orange', alpha=0.5)\n",
    "axs[1].set_title('NSE STD - X')\n",
    "axs[1].legend()\n",
    "\n",
    "axs[2].scatter(results['Run'], results['AC1_NSE_Std_y'], label='AC1', color='b', alpha=0.5)\n",
    "axs[2].scatter(results['Run'], results['AC2_NSE_Std_y'], label='AC2', color='orange', alpha=0.5)\n",
    "axs[2].set_title('NSE STD - Y')\n",
    "axs[2].legend()\n",
    "\n",
    "axs[3].scatter(results['Run'], results['AC1_NSE_Std_z'], label='AC1', color='b', alpha=0.5)\n",
    "axs[3].scatter(results['Run'], results['AC2_NSE_Std_z'], label='AC2', color='orange', alpha=0.5)\n",
    "axs[3].set_title('NSE STD - Z')\n",
    "axs[3].legend()\n",
    "\n",
    "plt.show()"
   ]
  },
  {
   "cell_type": "code",
   "execution_count": 6,
   "id": "6cf0e0dc",
   "metadata": {},
   "outputs": [
    {
     "data": {
      "image/png": "[encoded data removed]",
      "text/plain": [
       "<Figure size 1152x360 with 2 Axes>"
      ]
     },
     "metadata": {
      "needs_background": "light"
     },
     "output_type": "display_data"
    }
   ],
   "source": [
    "fig, axs = plt.subplots(ncols=2, figsize=(16,5))\n",
    "\n",
    "axs[0].hist(results['AC1_Dist_to_Last_WPT'], color='b', alpha=0.5, label = 'AC1')\n",
    "axs[0].hist(results['AC2_Dist_to_Last_WPT'], color='orange', alpha=0.5, label = 'AC2')\n",
    "axs[0].set_title('Distance to Last Wpt')\n",
    "axs[0].legend()\n",
    "\n",
    "axs[1].hist(results['AC1_EndState_Time'], color='b', alpha=0.5, label = 'AC1')\n",
    "axs[1].hist(results['AC2_EndState_Time'], color='orange', alpha=0.5, label = 'AC2')\n",
    "axs[1].set_title('Flight Time')\n",
    "axs[1].legend()\n",
    "\n",
    "plt.show()"
   ]
  },
  {
   "cell_type": "code",
   "execution_count": 7,
   "id": "811b7490",
   "metadata": {},
   "outputs": [],
   "source": [
    "# Results_Path = join_str(os.getcwd(), 'MonteCarlo', 'TwoAircraftEncounter', 'Results.csv')\n",
    "\n",
    "# results.to_csv(Results_Path)"
   ]
  },
  {
   "cell_type": "code",
   "execution_count": null,
   "id": "4834c4e3",
   "metadata": {},
   "outputs": [],
   "source": []
  }
 ],
 "metadata": {
  "kernelspec": {
   "display_name": "Python 3",
   "language": "python",
   "name": "python3"
  },
  "language_info": {
   "codemirror_mode": {
    "name": "ipython",
    "version": 3
   },
   "file_extension": ".py",
   "mimetype": "text/x-python",
   "name": "python",
   "nbconvert_exporter": "python",
   "pygments_lexer": "ipython3",
   "version": "3.8.8"
  }
 },
 "nbformat": 4,
 "nbformat_minor": 5
}

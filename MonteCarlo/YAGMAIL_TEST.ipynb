{
 "cells": [
  {
   "cell_type": "code",
   "execution_count": null,
   "id": "516f6427",
   "metadata": {},
   "outputs": [],
   "source": [
    "import yagmail\n",
    "\n",
    "user = yagmail.SMTP(user='tmuas2022@gmail.com', password='@Tmri1234')\n",
    "\n",
    "user.send(to='zhihao.quek@ntu.edu.sg', subject='Monte Carlo Simulation Results', \n",
    "         contents='Dear Zhi Hao, \\n\\nThe Monte Carlo Simulation has ended.' + \n",
    "          'If using AWS, please terminate the session. \\n\\nBest Regards, \\nYour Friendly Machine')"
   ]
  }
 ],
 "metadata": {
  "kernelspec": {
   "display_name": "Python 3",
   "language": "python",
   "name": "python3"
  },
  "language_info": {
   "codemirror_mode": {
    "name": "ipython",
    "version": 3
   },
   "file_extension": ".py",
   "mimetype": "text/x-python",
   "name": "python",
   "nbconvert_exporter": "python",
   "pygments_lexer": "ipython3",
   "version": "3.8.8"
  }
 },
 "nbformat": 4,
 "nbformat_minor": 5
}

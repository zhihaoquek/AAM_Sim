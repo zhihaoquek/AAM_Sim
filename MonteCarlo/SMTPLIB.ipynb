{
 "cells": [
  {
   "cell_type": "code",
   "execution_count": null,
   "id": "42dcc8c8",
   "metadata": {},
   "outputs": [],
   "source": [
    "import smtplib, ssl\n",
    "\n",
    "email_address = 'tmuas2022@gmail.com'     # add email address here\n",
    "Subject = 'Subject: Testing smtplib on Python \\n\\n'\n",
    "content = ' Dear Sith Lord, \\n Your Simulation results beckon.\\n\\n ' \n",
    "footer = 'Your Droid Army (AWS)'    # add test footer \n",
    "passcode = 'zupmvqlgtwkjyjxl'        # add passcode here\n",
    "conn = smtplib.SMTP_SSL('smtp.gmail.com', 465) \n",
    "conn.ehlo()\n",
    "conn.login(email_address, passcode)\n",
    "conn.sendmail(email_address,\n",
    "              'zhihao.quek16@sps.nus.edu.sg',\n",
    "              Subject + content + footer)\n",
    "conn.quit()"
   ]
  },
  {
   "cell_type": "code",
   "execution_count": null,
   "id": "4f827359",
   "metadata": {},
   "outputs": [],
   "source": []
  }
 ],
 "metadata": {
  "kernelspec": {
   "display_name": "Python 3 (ipykernel)",
   "language": "python",
   "name": "python3"
  },
  "language_info": {
   "codemirror_mode": {
    "name": "ipython",
    "version": 3
   },
   "file_extension": ".py",
   "mimetype": "text/x-python",
   "name": "python",
   "nbconvert_exporter": "python",
   "pygments_lexer": "ipython3",
   "version": "3.9.7"
  }
 },
 "nbformat": 4,
 "nbformat_minor": 5
}
